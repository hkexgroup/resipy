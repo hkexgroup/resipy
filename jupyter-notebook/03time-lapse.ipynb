{
 "cells": [
  {
   "cell_type": "markdown",
   "metadata": {},
   "source": [
    "# Time-lapse inversion\n",
    "In this notebook we will see how to use pyR2 API to do a time-lapse inversion (difference)."
   ]
  },
  {
   "cell_type": "code",
   "execution_count": 1,
   "metadata": {},
   "outputs": [
    {
     "name": "stdout",
     "output_type": "stream",
     "text": [
      "API path =  /media/jkl/data/phd/tmp/pyr2/src/resipy\n",
      "ResIPy version =  2.0.1\n"
     ]
    }
   ],
   "source": [
    "%matplotlib inline\n",
    "import warnings\n",
    "warnings.filterwarnings('ignore')\n",
    "import os\n",
    "import sys\n",
    "sys.path.append(os.path.relpath('../src')) # add here the relative path of the API folder\n",
    "\n",
    "from resipy import R2"
   ]
  },
  {
   "cell_type": "markdown",
   "metadata": {},
   "source": [
    "Then we can import all the dataset. Note that they should all be in the same directory and will be sorted according to alphabetical order."
   ]
  },
  {
   "cell_type": "code",
   "execution_count": 2,
   "metadata": {},
   "outputs": [
    {
     "name": "stdout",
     "output_type": "stream",
     "text": [
      "Working directory is: /media/jkl/data/phd/tmp/pyr2/src/resipy/invdir\n",
      "clearing the dirname\n",
      "Inf or NaN: filterData: 0 / 344 quadrupoles removed.\n",
      "strange quadrupoles: filterData: 0 / 344 quadrupoles removed.\n",
      "36/344 reciprocal measurements NOT found.\n",
      "0 measurements error > 20 %\n",
      "../src/resipy/test/testTimelapse/17031501.csv imported\n",
      "--------- ../src/resipy/test/testTimelapse/17031501.csv imported\n",
      "Inf or NaN: filterData: 0 / 344 quadrupoles removed.\n",
      "strange quadrupoles: filterData: 0 / 344 quadrupoles removed.\n",
      "36/344 reciprocal measurements NOT found.\n",
      "0 measurements error > 20 %\n",
      "../src/resipy/test/testTimelapse/17040301.csv imported\n",
      "--------- ../src/resipy/test/testTimelapse/17040301.csv imported\n",
      "Inf or NaN: filterData: 0 / 314 quadrupoles removed.\n",
      "strange quadrupoles: filterData: 0 / 314 quadrupoles removed.\n",
      "48/314 reciprocal measurements NOT found.\n",
      "0 measurements error > 20 %\n",
      "../src/resipy/test/testTimelapse/17051601.csv imported\n",
      "--------- ../src/resipy/test/testTimelapse/17051601.csv imported\n",
      "creating bigSurvey\n",
      "Inf or NaN: filterData: 0 / 344 quadrupoles removed.\n",
      "strange quadrupoles: filterData: 0 / 344 quadrupoles removed.\n",
      "36/344 reciprocal measurements NOT found.\n",
      "0 measurements error > 20 %\n",
      "3 survey files imported\n"
     ]
    }
   ],
   "source": [
    "k = R2()\n",
    "k.createTimeLapseSurvey('../src/resipy/test/testTimelapse')"
   ]
  },
  {
   "cell_type": "code",
   "execution_count": 3,
   "metadata": {},
   "outputs": [
    {
     "data": {
      "text/plain": [
       "[<resipy.Survey.Survey at 0x7fcde0ea4d30>,\n",
       " <resipy.Survey.Survey at 0x7fcdb79422e8>,\n",
       " <resipy.Survey.Survey at 0x7fcdb7942208>]"
      ]
     },
     "execution_count": 3,
     "metadata": {},
     "output_type": "execute_result"
    }
   ],
   "source": [
    "k.surveys # to display the list of the surveys object"
   ]
  },
  {
   "cell_type": "markdown",
   "metadata": {},
   "source": [
    "The inversion is seamlessly the same. It will automatically take the first survey os background model. Invert it in a specific `ref` directory inside the working directory and then invert the other datasets."
   ]
  },
  {
   "cell_type": "code",
   "execution_count": 5,
   "metadata": {
    "scrolled": true
   },
   "outputs": [
    {
     "name": "stdout",
     "output_type": "stream",
     "text": [
      "Writing .in file and protocol.dat ...\n",
      "written mesh.dat file to \n",
      "/media/jkl/data/phd/tmp/pyr2/src/resipy/invdir/mesh.dat\n",
      "Matching quadrupoles between surveys for difference inversion ...314 in common...done in 0.023577s\n",
      "done\n",
      "\n",
      "------------ INVERTING REFERENCE SURVEY ---------------\n",
      "\n",
      "written mesh.dat file to \n",
      "/media/jkl/data/phd/tmp/pyr2/src/resipy/invdir/mesh.dat\n",
      "\n",
      "\n",
      " >> R  2    R e s i s t i v i t y   I n v e r s i o n   v3.3 <<\n",
      "\n",
      " >> D a t e : 19 - 11 - 2019\n",
      " >> My beautiful survey\n",
      " >> I n v e r s e   S o l u t i o n   S e l e c t e d <<\n",
      " >> Determining storage needed for finite element conductance matrix\n",
      " >> Generating index array for finite element conductance matrix\n",
      " >> Reading start resistivity from res0.dat\n",
      " >> R e g u l a r i s e d   T y p e <<\n",
      " >>   L i n e a r    F i l t e r    <<\n",
      " >> L o g - D a t a   I n v e r s i o n <<\n",
      " >> N o r m a l   R e g u l a r i s a t i o n <<\n",
      " >> D a t a   w e i g h t s   w i l l   b e  m o d i f i e d <<\n",
      "\n",
      "\n",
      " Processing dataset   1\n",
      "\n",
      "\n",
      " Measurements read:   190     Measurements rejected:     0\n",
      "   Geometric mean of apparent resistivities:  0.52987E+02\n",
      "\n",
      " >> Total Memory required is:          0.239 Gb\n",
      "\n",
      "   Iteration   1\n",
      "     Initial RMS Misfit:        28.57     Number of data ignored:     0\n",
      "     Alpha:    338.716   RMS Misfit:        0.90\n",
      "     Step length set to   1.00000\n",
      "     Final RMS Misfit:        0.90\n",
      "\n",
      " Cannot fit quadratic through step lengths\n",
      "     Final RMS Misfit:        0.90\n",
      "\n",
      " Solution converged - Outputing results to file\n",
      "\n",
      " Calculating sensitivity map\n",
      "\n",
      "\n",
      " Processing dataset   2\n",
      "\n",
      "\n",
      " End of data:  Terminating\n",
      "--------------------- MAIN INVERSION ------------------\n",
      "\n",
      "________________System-Check__________________\n",
      "Processor info: \n",
      "Number of logical CPUs: 4\n",
      "Kernel type: Linux\n",
      "Wine version = 4.0\n",
      "Total RAM available: 7890 Mb\n",
      "0/2 inversions completed\n",
      "1/2 inversions completed\n",
      "2/2 inversions completed\n",
      "\n",
      "Error retrieving for  /media/jkl/data/phd/tmp/pyr2/src/resipy/invdir/1 : [Errno 2] No such file or directory: '/media/jkl/data/phd/tmp/pyr2/src/resipy/invdir/1/R2.out'\n",
      "Error retrieving for  /media/jkl/data/phd/tmp/pyr2/src/resipy/invdir/2 : [Errno 2] No such file or directory: '/media/jkl/data/phd/tmp/pyr2/src/resipy/invdir/2/R2.out'\n"
     ]
    },
    {
     "ename": "FileNotFoundError",
     "evalue": "[Errno 2] No such file or directory: '/media/jkl/data/phd/tmp/pyr2/src/resipy/invdir/R2_17040301.out'",
     "output_type": "error",
     "traceback": [
      "\u001b[0;31m---------------------------------------------------------------------------\u001b[0m",
      "\u001b[0;31mFileNotFoundError\u001b[0m                         Traceback (most recent call last)",
      "\u001b[0;32m<ipython-input-5-1df92b4aef62>\u001b[0m in \u001b[0;36m<module>\u001b[0;34m\u001b[0m\n\u001b[0;32m----> 1\u001b[0;31m \u001b[0mk\u001b[0m\u001b[0;34m.\u001b[0m\u001b[0minvert\u001b[0m\u001b[0;34m(\u001b[0m\u001b[0mparallel\u001b[0m\u001b[0;34m=\u001b[0m\u001b[0;32mTrue\u001b[0m\u001b[0;34m)\u001b[0m \u001b[0;31m# takes a while because it invert all the surveys together\u001b[0m\u001b[0;34m\u001b[0m\u001b[0;34m\u001b[0m\u001b[0m\n\u001b[0m",
      "\u001b[0;32m/media/jkl/data/phd/tmp/pyr2/src/resipy/R2.py\u001b[0m in \u001b[0;36minvert\u001b[0;34m(self, param, iplot, dump, modErr, parallel, iMoveElec, ncores, rmDirTree)\u001b[0m\n\u001b[1;32m   2060\u001b[0m         \u001b[0mdump\u001b[0m\u001b[0;34m(\u001b[0m\u001b[0;34m'--------------------- MAIN INVERSION ------------------\\n'\u001b[0m\u001b[0;34m)\u001b[0m\u001b[0;34m\u001b[0m\u001b[0;34m\u001b[0m\u001b[0m\n\u001b[1;32m   2061\u001b[0m         \u001b[0;32mif\u001b[0m \u001b[0mparallel\u001b[0m \u001b[0;32mis\u001b[0m \u001b[0;32mTrue\u001b[0m \u001b[0;32mand\u001b[0m \u001b[0;34m(\u001b[0m\u001b[0mself\u001b[0m\u001b[0;34m.\u001b[0m\u001b[0miTimeLapse\u001b[0m \u001b[0;32mis\u001b[0m \u001b[0;32mTrue\u001b[0m \u001b[0;32mor\u001b[0m \u001b[0mself\u001b[0m\u001b[0;34m.\u001b[0m\u001b[0miBatch\u001b[0m \u001b[0;32mis\u001b[0m \u001b[0;32mTrue\u001b[0m\u001b[0;34m)\u001b[0m\u001b[0;34m:\u001b[0m\u001b[0;34m\u001b[0m\u001b[0;34m\u001b[0m\u001b[0m\n\u001b[0;32m-> 2062\u001b[0;31m             \u001b[0mself\u001b[0m\u001b[0;34m.\u001b[0m\u001b[0mrunParallel\u001b[0m\u001b[0;34m(\u001b[0m\u001b[0mdump\u001b[0m\u001b[0;34m=\u001b[0m\u001b[0mdump\u001b[0m\u001b[0;34m,\u001b[0m \u001b[0miMoveElec\u001b[0m\u001b[0;34m=\u001b[0m\u001b[0miMoveElec\u001b[0m\u001b[0;34m,\u001b[0m \u001b[0mncores\u001b[0m\u001b[0;34m=\u001b[0m\u001b[0mncores\u001b[0m\u001b[0;34m,\u001b[0m \u001b[0mrmDirTree\u001b[0m\u001b[0;34m=\u001b[0m\u001b[0mrmDirTree\u001b[0m\u001b[0;34m)\u001b[0m\u001b[0;34m\u001b[0m\u001b[0;34m\u001b[0m\u001b[0m\n\u001b[0m\u001b[1;32m   2063\u001b[0m         \u001b[0;32melse\u001b[0m\u001b[0;34m:\u001b[0m\u001b[0;34m\u001b[0m\u001b[0;34m\u001b[0m\u001b[0m\n\u001b[1;32m   2064\u001b[0m             \u001b[0mself\u001b[0m\u001b[0;34m.\u001b[0m\u001b[0mrunR2\u001b[0m\u001b[0;34m(\u001b[0m\u001b[0mdump\u001b[0m\u001b[0;34m=\u001b[0m\u001b[0mdump\u001b[0m\u001b[0;34m)\u001b[0m\u001b[0;34m\u001b[0m\u001b[0;34m\u001b[0m\u001b[0m\n",
      "\u001b[0;32m/media/jkl/data/phd/tmp/pyr2/src/resipy/R2.py\u001b[0m in \u001b[0;36mrunParallel\u001b[0;34m(self, dirname, dump, iMoveElec, ncores, rmDirTree)\u001b[0m\n\u001b[1;32m   1960\u001b[0m                     \u001b[0mshutil\u001b[0m\u001b[0;34m.\u001b[0m\u001b[0mmove\u001b[0m\u001b[0;34m(\u001b[0m\u001b[0moriginalFile\u001b[0m\u001b[0;34m,\u001b[0m \u001b[0mnewFile\u001b[0m\u001b[0;34m)\u001b[0m\u001b[0;34m\u001b[0m\u001b[0;34m\u001b[0m\u001b[0m\n\u001b[1;32m   1961\u001b[0m             \u001b[0mr2outFile\u001b[0m \u001b[0;34m=\u001b[0m \u001b[0mos\u001b[0m\u001b[0;34m.\u001b[0m\u001b[0mpath\u001b[0m\u001b[0;34m.\u001b[0m\u001b[0mjoin\u001b[0m\u001b[0;34m(\u001b[0m\u001b[0mdirname\u001b[0m\u001b[0;34m,\u001b[0m \u001b[0mself\u001b[0m\u001b[0;34m.\u001b[0m\u001b[0mtyp\u001b[0m \u001b[0;34m+\u001b[0m \u001b[0;34m'_'\u001b[0m \u001b[0;34m+\u001b[0m \u001b[0ms\u001b[0m\u001b[0;34m.\u001b[0m\u001b[0mname\u001b[0m \u001b[0;34m+\u001b[0m \u001b[0;34m'.out'\u001b[0m\u001b[0;34m)\u001b[0m\u001b[0;34m\u001b[0m\u001b[0;34m\u001b[0m\u001b[0m\n\u001b[0;32m-> 1962\u001b[0;31m             \u001b[0;32mwith\u001b[0m \u001b[0mopen\u001b[0m\u001b[0;34m(\u001b[0m\u001b[0mr2outFile\u001b[0m\u001b[0;34m,\u001b[0m \u001b[0;34m'r'\u001b[0m\u001b[0;34m)\u001b[0m \u001b[0;32mas\u001b[0m \u001b[0mf\u001b[0m\u001b[0;34m:\u001b[0m\u001b[0;34m\u001b[0m\u001b[0;34m\u001b[0m\u001b[0m\n\u001b[0m\u001b[1;32m   1963\u001b[0m                 \u001b[0mr2outText\u001b[0m \u001b[0;34m=\u001b[0m \u001b[0mr2outText\u001b[0m \u001b[0;34m+\u001b[0m \u001b[0mf\u001b[0m\u001b[0;34m.\u001b[0m\u001b[0mread\u001b[0m\u001b[0;34m(\u001b[0m\u001b[0;34m)\u001b[0m\u001b[0;34m\u001b[0m\u001b[0;34m\u001b[0m\u001b[0m\n\u001b[1;32m   1964\u001b[0m             \u001b[0mos\u001b[0m\u001b[0;34m.\u001b[0m\u001b[0mremove\u001b[0m\u001b[0;34m(\u001b[0m\u001b[0mr2outFile\u001b[0m\u001b[0;34m)\u001b[0m\u001b[0;34m\u001b[0m\u001b[0;34m\u001b[0m\u001b[0m\n",
      "\u001b[0;31mFileNotFoundError\u001b[0m: [Errno 2] No such file or directory: '/media/jkl/data/phd/tmp/pyr2/src/resipy/invdir/R2_17040301.out'"
     ]
    }
   ],
   "source": [
    "k.invert(parallel=True) # takes a while because it invert all the surveys together"
   ]
  },
  {
   "cell_type": "markdown",
   "metadata": {},
   "source": [
    "Note that we can visualize the different inverted sections using `R2.showResults(index=0, attr='Resistivity(log10)')`."
   ]
  },
  {
   "cell_type": "code",
   "execution_count": null,
   "metadata": {},
   "outputs": [],
   "source": [
    "k.showResults(index=0, attr='Resistivity(log10)', contour=True, vmin=1.5, vmax=2.3)\n",
    "k.showResults(index=1, attr='Resistivity(log10)', contour=True, vmin=1.5, vmax=2.3)\n",
    "k.showResults(index=2, attr='Resistivity(log10)', contour=True, vmin=1.5, vmax=2.3)\n",
    "k.showResults(index=3, attr='Resistivity(log10)', contour=True, vmin=1.5, vmax=2.3)"
   ]
  },
  {
   "cell_type": "markdown",
   "metadata": {},
   "source": [
    "We can also look for the differences between each survey."
   ]
  },
  {
   "cell_type": "code",
   "execution_count": null,
   "metadata": {},
   "outputs": [],
   "source": [
    "# the differnces are in percent in reference to the backround survey (index=0)\n",
    "k.showResults(index=1, attr='difference(percent)', contour=True, vmin=0, vmax=100)\n",
    "k.showResults(index=2, attr='difference(percent)', contour=True, vmin=0, vmax=100)\n",
    "k.showResults(index=3, attr='difference(percent)', contour=True, vmin=0, vmax=100)"
   ]
  },
  {
   "cell_type": "markdown",
   "metadata": {},
   "source": [
    "Like this we can observe a deeper positive change (drying) during the growth season of wheat mainly due to the root water uptake."
   ]
  }
 ],
 "metadata": {
  "kernelspec": {
   "display_name": "Python 3",
   "language": "python",
   "name": "python3"
  },
  "language_info": {
   "codemirror_mode": {
    "name": "ipython",
    "version": 3
   },
   "file_extension": ".py",
   "mimetype": "text/x-python",
   "name": "python",
   "nbconvert_exporter": "python",
   "pygments_lexer": "ipython3",
   "version": "3.7.3"
  }
 },
 "nbformat": 4,
 "nbformat_minor": 2
}

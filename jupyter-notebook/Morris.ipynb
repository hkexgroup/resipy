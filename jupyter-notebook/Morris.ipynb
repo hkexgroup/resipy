{
 "cells": [
  {
   "cell_type": "markdown",
   "metadata": {},
   "source": [
    "# Global sensitivity analysis\n",
    "\n",
    "Global sensitivity analysis is a Monte Carlo based method to rank the importance of parameters in a given modelling problem. As opposed to local senstivity analysis, it does not require the construction of the Jacobian, making it a flexible tool to evaluate complex problems.\n",
    "\n",
    "Global sensitivty analysis is available in mainly uncertainty quantificaiton packages, as well as some flow and transport programs (e.g. iTOUGH2). GSA is also very popular in catchment modelling and civil engineering/risk analysis problems.\n",
    "\n",
    "Some GSA work in hydrogeophysics (mainly by Berkeley Lab):\n",
    "\n",
    "* coupled hydrological-thermal-geophysical inversion ([Tran et al 2017](https://www.hydrol-earth-syst-sci.net/20/3477/2016/hess-20-3477-2016.pdf))\n",
    "> Nicely show how to simplify (i.e. reduce the number of parameters) for a very complex, highly coupled problem \n",
    "* making sense of global senstivity analysis ([Wainwright et al 2014](https://doi.org/10.1016/j.cageo.2013.06.006))\n",
    "> Very good review article\n",
    "* Sensitivity analysis of environmental models ([Pianosi et al 2014](https://doi.org/10.1016/j.envsoft.2016.02.008))\n",
    "> A systematic review, includes GLUE and RSA\n",
    "* hydrogeology of a nuclear site in the Paris Basin ([Deman et al 2016](https://doi.org/10.1016/j.ress.2015.11.005))\n",
    "> A different GSA method was used instead here to look at the low probability breakthrough events\n",
    "* Global Sensitivity and Data-Worth Analyses in iTOUGH2 User's Guide ([Wainwright et al 2016](http://eesatough.lbl.gov/assets/files/02/documentation/iTOUGH2-Sensitivity_Analysis.pdf))\n",
    "> An useful manual if you want to learn about the details of setting up a probllem.\n",
    "\n",
    "In this tutorial, we will see how to link the **RESiPy** API and **SALib** for senstivity analysis. Two key elements of SA are (i) forward modelling (Monte Carlo runs) and (ii) specifying the parameter ranges. This notebook will showcase of the use of the *Method of Morris*, which is known for its relatively small computational cost. This tutorial is modified from the one posted on https://github.com/SALib/SATut to demonstrate its coupling with **RESiPy**"
   ]
  },
  {
   "cell_type": "markdown",
   "metadata": {},
   "source": [
    "## Morris sensitivity method\n",
    ">The Morris one-at-a-time (OAT) method (Morris, 1991) can be considered as an extension of the local sensitivity method. Each parameter range is scaled to the unit interval [0, 1] and partitioned into $(p−1)$ equally-sized intervals. The reference value of each parameter is selected randomly from the set ${0, 1/(p−1), 2/(p−1), …, 1−Δ}$. The fixed increment $Δ=p/{2(p−1)}$ is added to each parameter in random order to compute the elementary effect ($EE$) of $x_i$\n",
    "\n",
    "\n",
    "$$EE_i=\\frac{1}{\\tau_y}\\frac{f(x_1*,...,x_i*+\\Delta,...,x_k*)-f(x_1*,...,x_k*)}{\\Delta}$$\n",
    "\n",
    "> where ${x_i⁎}$ is the randomly selected parameter set, and τy is the output-scaling factor. To compute EEi for k parameters, we need (k+1) simulations (called one “path”) in the same way as that of the local sensitivity method. By having multiple paths, we have an ensemble of EEs for each parameter. The total number of simulations is r(k+1), where r is the number of paths.\n",
    "\n",
    "We compute three statistics: the mean $EE$, standard deviation (STD) of $EE$, and mean of absolute $EE$. \n",
    "* **mean EE ($\\mu$)** represents the average effect of each parameter over the parameter space, the mean EE can be regarded as a global sensitivity measure.\n",
    "* **mean |EE| ($\\mu*$)** is used to identify the non-influential factors, \n",
    "* **STD of EE ($\\sigma$)** is used to identify nonlinear and/or interaction effects. (The standard error of mean (SEM) of EE, defined as $SEM=STD/r^{0.5}$, is used to calculate the confidence interval of mean EE (Morris, 1991))\n",
    "\n",
    "This cell is copied from ([Wainwright et al 2014](https://www.sciencedirect.com/science/article/pii/S0098300413001702))\n",
    "\n",
    "## Importing libraries"
   ]
  },
  {
   "cell_type": "code",
   "execution_count": 1,
   "metadata": {},
   "outputs": [
    {
     "name": "stdout",
     "output_type": "stream",
     "text": [
      "API path =  /media/jkl/data/phd/tmp/pyr2/src/resipy\n",
      "ResIPy version =  2.0.1\n"
     ]
    }
   ],
   "source": [
    "%matplotlib inline\n",
    "import warnings\n",
    "warnings.filterwarnings('ignore')\n",
    "import os\n",
    "import sys\n",
    "sys.path.append((os.path.relpath('../src'))) # add here the relative path of the API folder\n",
    "\n",
    "import numpy as np # numpy for electrode generation\n",
    "import pandas as pd\n",
    "from IPython.utils import io  # suppress R2 outputs during MC runs\n",
    "from resipy import R2\n"
   ]
  },
  {
   "cell_type": "markdown",
   "metadata": {},
   "source": [
    "### The SALib package\n",
    "SALib is a **free** **open-source** **Python** library\n",
    "\n",
    "\n",
    "\n",
    "If you use Python, you can install it by running the command\n",
    "\n",
    "```python\n",
    "pip install SALib\n",
    "```\n",
    "\n",
    "[Documentation](http://salib.readthedocs.org/) is available online and you can also view the code on [Github](http://salib.github.io/SALib/).\n",
    "\n",
    "The library includes:\n",
    "* Sobol Sensitivity Analysis ([Sobol 2001](http://www.sciencedirect.com/science/article/pii/S0378475400002706), [Saltelli 2002](http://www.sciencedirect.com/science/article/pii/S0010465502002801), [Saltelli et al. 2010](http://www.sciencedirect.com/science/article/pii/S0010465509003087))\n",
    "* Method of Morris, including groups and optimal trajectories ([Morris 1991](http://www.tandfonline.com/doi/abs/10.1080/00401706.1991.10484804), [Campolongo et al. 2007](http://www.sciencedirect.com/science/article/pii/S1364815206002805))\n",
    "* Fourier Amplitude Sensitivity Test (FAST) ([Cukier et al. 1973](http://scitation.aip.org/content/aip/journal/jcp/59/8/10.1063/1.1680571), [Saltelli et al. 1999](http://amstat.tandfonline.com/doi/abs/10.1080/00401706.1999.10485594))\n",
    "* Delta Moment-Independent Measure ([Borgonovo 2007](http://www.sciencedirect.com/science/article/pii/S0951832006000883), [Plischke et al. 2013](http://www.sciencedirect.com/science/article/pii/S0377221712008995))\n",
    "* Derivative-based Global Sensitivity Measure (DGSM) ([Sobol and Kucherenko 2009](http://www.sciencedirect.com/science/article/pii/S0378475409000354))\n",
    "* Fractional Factorial Sensitivity Analysis ([Saltelli et al. 2008](http://www.wiley.com/WileyCDA/WileyTitle/productCd-0470059974.html))\n",
    "\n",
    "[SALib Tutorial](https://github.com/SALib/SATut)"
   ]
  },
  {
   "cell_type": "code",
   "execution_count": 2,
   "metadata": {},
   "outputs": [],
   "source": [
    "# import the packages\n",
    "from SALib.sample import morris as ms\n",
    "from SALib.analyze import morris as ma\n",
    "from SALib.plotting import morris as mp"
   ]
  },
  {
   "cell_type": "markdown",
   "metadata": {},
   "source": [
    "### Create ERT forward problem with **ResIPy**\n",
    "\n",
    "In the code below, created a R2 forward problem to be analyzed"
   ]
  },
  {
   "cell_type": "code",
   "execution_count": 3,
   "metadata": {},
   "outputs": [
    {
     "name": "stdout",
     "output_type": "stream",
     "text": [
      "Working directory is: /media/jkl/data/phd/tmp/pyr2/src/resipy/invdir\n",
      "clearing the dirname\n",
      "computed DOI : -7.67\n",
      "Using a quadrilateral mesh.\n",
      "written mesh.dat file to \n",
      "/media/jkl/data/phd/tmp/pyr2/src/resipy/invdir/mesh.dat\n",
      "Writing .in file...\n",
      "done\n",
      "\n",
      "Writing protocol.dat ...\n",
      "done\n",
      "\n",
      "Running forward model\n",
      "\n",
      "\n",
      " >> R  2    R e s i s t i v i t y   I n v e r s i o n   v3.3 <<\n",
      "\n",
      " >> D a t e : 19 - 11 - 2019\n",
      " >> My beautiful survey\n",
      " >> F o r w a r d   S o l u t i o n   S e l e c t e d <<\n",
      " >> Determining storage needed for finite element conductance matrix\n",
      " >> Generating index array for finite element conductance matrix\n",
      " >> Reading start resistivity from resistivity.dat\n",
      "\n",
      " Measurements read:   165     Measurements rejected:     0\n",
      "\n",
      " >> Total Memory required is:          0.395 Gb\n",
      "Inf or NaN: filterData: 0 / 165 quadrupoles removed.\n",
      "strange quadrupoles: filterData: 0 / 165 quadrupoles removed.\n",
      "165/165 reciprocal measurements NOT found.\n",
      "0 measurements error > 20 %\n",
      "computed DOI : -3.67\n",
      "computed DOI : -3.67\n",
      "Forward modelling done.\n",
      "Mesh plotted in 0.28437 seconds\n"
     ]
    },
    {
     "data": {
      "image/png": "[encoded data removed]",
      "text/plain": [
       "<Figure size 432x288 with 2 Axes>"
      ]
     },
     "metadata": {
      "needs_background": "light"
     },
     "output_type": "display_data"
    }
   ],
   "source": [
    "k = R2()\n",
    "\n",
    "elec = np.zeros((24,3))\n",
    "elec[:,0] = np.arange(0, 24*0.5, 0.5) # with 0.5 m spacing and 24 electrodes\n",
    "k.setElec(elec)\n",
    "#print(k.elec)\n",
    "\n",
    "# defining electrode array\n",
    "x = np.zeros((24, 3))\n",
    "x[:,0] = np.arange(0, 24*0.5, 0.5)\n",
    "k.setElec(elec)\n",
    "\n",
    "# creating mesh\n",
    "k.createMesh(res0=20)\n",
    "\n",
    "# add region\n",
    "k.addRegion(np.array([[2,-0.3],[2,-2],[3,-2],[3,-0.3],[2,-0.3]]), 50)\n",
    "k.addRegion(np.array([[5,-2],[5,-3.5],[8,-3.5],[8,-2],[5,-2]]), 500)\n",
    "\n",
    "# define sequence\n",
    "k.createSequence([('dpdp1', 1, 10)])\n",
    "\n",
    "# forward modelling\n",
    "k.forward(noise=0.025)\n",
    "\n",
    "# read results\n",
    "fwd_dir = os.path.relpath('../src/resipy/invdir/fwd')\n",
    "\n",
    "obs_data = np.loadtxt(os.path.join(fwd_dir, 'R2_forward.dat'),skiprows =1)\n",
    "obs_data = obs_data[:,6]\n",
    "\n",
    "# plot\n",
    "k.showMesh()"
   ]
  },
  {
   "cell_type": "markdown",
   "metadata": {},
   "source": [
    "### Option to view resistivity fields with pyvista \n"
   ]
  },
  {
   "cell_type": "code",
   "execution_count": 4,
   "metadata": {},
   "outputs": [
    {
     "data": {
      "image/png": "[encoded data removed]",
      "text/plain": [
       "<PIL.Image.Image image mode=RGB size=1024x768 at 0x7F5B5968D358>"
      ]
     },
     "metadata": {},
     "output_type": "display_data"
    },
    {
     "data": {
      "text/html": [
       "<table><tr><th>Header</th><th>Data Arrays</th></tr><tr><td>\n",
       "<table>\n",
       "<tr><th>UnstructuredGrid</th><th>Information</th></tr>\n",
       "<tr><td>N Cells</td><td>2576</td></tr>\n",
       "<tr><td>N Points</td><td>2697</td></tr>\n",
       "<tr><td>X Bounds</td><td>0.000e+00, 1.150e+01</td></tr>\n",
       "<tr><td>Y Bounds</td><td>-7.681e+00, 0.000e+00</td></tr>\n",
       "<tr><td>Z Bounds</td><td>0.000e+00, 0.000e+00</td></tr>\n",
       "<tr><td>N Arrays</td><td>2</td></tr>\n",
       "</table>\n",
       "\n",
       "</td><td>\n",
       "<table>\n",
       "<tr><th>Name</th><th>Field</th><th>Type</th><th>N Comp</th><th>Min</th><th>Max</th></tr>\n",
       "<tr><td>Resistivity(Ohm-m)</td><td>Cells</td><td>float64</td><td>1</td><td>2.000e+01</td><td>5.000e+02</td></tr>\n",
       "<tr><td><b>Resistivity(log10)</b></td><td>Cells</td><td>float64</td><td>1</td><td>1.301e+00</td><td>2.699e+00</td></tr>\n",
       "</table>\n",
       "\n",
       "</td></tr> </table>"
      ],
      "text/plain": [
       "UnstructuredGrid (0x7f5b596838e8)\n",
       "  N Cells:\t2576\n",
       "  N Points:\t2697\n",
       "  X Bounds:\t0.000e+00, 1.150e+01\n",
       "  Y Bounds:\t-7.681e+00, 0.000e+00\n",
       "  Z Bounds:\t0.000e+00, 0.000e+00\n",
       "  N Arrays:\t2"
      ]
     },
     "execution_count": 4,
     "metadata": {},
     "output_type": "execute_result"
    }
   ],
   "source": [
    "import pyvista as pv\n",
    "mesh = pv.read(os.path.join(fwd_dir, 'forward_model.vtk'))\n",
    "\n",
    "mesh.cell_arrays\n",
    "mesh.plot(scalars='Resistivity(log10)',notebook=True)\n",
    "mesh"
   ]
  },
  {
   "cell_type": "code",
   "execution_count": 5,
   "metadata": {},
   "outputs": [
    {
     "data": {
      "image/png": "[encoded data removed]",
      "text/plain": [
       "<PIL.Image.Image image mode=RGB size=1024x768 at 0x7F5B582A1828>"
      ]
     },
     "metadata": {},
     "output_type": "display_data"
    }
   ],
   "source": [
    "import pyvista as pv\n",
    "\n",
    "plotter = pv.Plotter()\n",
    "mesh = pv.read(os.path.join(fwd_dir, 'forward_model.vtk'))\n",
    "\n",
    "plotter.add_mesh(mesh,cmap=\"viridis\" ,stitle=\"Resistivity(log10)\") #scalars='Resistivity(log10)'\n",
    "#plotter.show_axes()\n",
    "\n",
    "_ = plotter.show_bounds(grid='front', location='outer', all_edges=True, xlabel=\"X [m]\",ylabel=\"Y [m]\")\n",
    "plotter.add_text('pyvista example')\n",
    "#plotter.update_scalar_bar_range([-2000,2000], name=\"Resistivity(log10)\")\n",
    "\n",
    "#plotter.add_mesh(mesh, cmap=\"bone\", opacity=\"linear\", stitle=\"Linear Opacity\")\n",
    "plotter.view_xy()\n",
    "plotter.show()\n",
    "#plotter.show(screenshot='test.png')\n"
   ]
  },
  {
   "cell_type": "markdown",
   "metadata": {},
   "source": [
    "### Define a problem file\n",
    "\n",
    "In the code below, a problem file is used to define the parameters and their ranges we wish to explore, which corresponds to the following table:\n",
    "\n",
    "|         Parameter        |  Range   |  Description   |\n",
    "|--------------------------|----------|----------|\n",
    "|   rho0 [ohm m]  | 10^[0.5,3.5] | background |\n",
    "|   rho1 [ohm m]  | 10^[0.5,3.5] |inclusion A|\n",
    "|   rho2 [ohm m]  | 10^[0.5,3.5] |inclusion B|\n"
   ]
  },
  {
   "cell_type": "code",
   "execution_count": 6,
   "metadata": {},
   "outputs": [],
   "source": [
    "morris_problem = {\n",
    "    'num_vars': 3,\n",
    "    # These are their names\n",
    "    'names': ['rho1', 'rho2', 'rho3'], # can add z1 z2 etc.\n",
    "    # Plausible ranges over which we'll move the variables\n",
    "    'bounds': [[0.5,3.5], # log10 of rho (ohm m)\n",
    "               [0.5,3.5], \n",
    "               [0.5,3.5]#, \n",
    "   #            [-3,-1], \n",
    "   #            [-7,-4], \n",
    "              ],\n",
    "    # I don't want to group any of these variables together\n",
    "    'groups': None\n",
    "    }"
   ]
  },
  {
   "cell_type": "markdown",
   "metadata": {},
   "source": [
    "### Generate a Sample\n",
    "\n",
    "We then generate a sample using the `morris.sample()` procedure from the SALib package."
   ]
  },
  {
   "cell_type": "code",
   "execution_count": 7,
   "metadata": {},
   "outputs": [
    {
     "name": "stdout",
     "output_type": "stream",
     "text": [
      "[2.16666667 2.16666667 3.5       ]\n"
     ]
    }
   ],
   "source": [
    "number_of_trajectories = 20\n",
    "sample = ms.sample(morris_problem, number_of_trajectories, num_levels=10)\n",
    "len(sample)\n",
    "print(sample[79,:])\n"
   ]
  },
  {
   "cell_type": "markdown",
   "metadata": {},
   "source": [
    "## Run the sample through the monte carlo procedure in R2\n",
    "Great! You have defined your problem and have created a series of input files for forward runs. Now you need to run R2 for each of them to obtain their ERT responses.\n",
    "\n",
    "For this example, each sample takes a few seconds to run on a PC."
   ]
  },
  {
   "cell_type": "code",
   "execution_count": 8,
   "metadata": {},
   "outputs": [
    {
     "name": "stdout",
     "output_type": "stream",
     "text": [
      "Running sample 1\n",
      "Running sample 2\n",
      "Running sample 3\n",
      "Running sample 4\n",
      "Running sample 5\n",
      "Running sample 6\n",
      "Running sample 7\n",
      "Running sample 8\n",
      "Running sample 9\n",
      "Running sample 10\n",
      "Running sample 11\n",
      "Running sample 12\n",
      "Running sample 13\n",
      "Running sample 14\n",
      "Running sample 15\n",
      "Running sample 16\n",
      "Running sample 17\n",
      "Running sample 18\n",
      "Running sample 19\n",
      "Running sample 20\n",
      "Running sample 21\n",
      "Running sample 22\n",
      "Running sample 23\n",
      "Running sample 24\n",
      "Running sample 25\n",
      "Running sample 26\n",
      "Running sample 27\n",
      "Running sample 28\n",
      "Running sample 29\n",
      "Running sample 30\n",
      "Running sample 31\n",
      "Running sample 32\n",
      "Running sample 33\n",
      "Running sample 34\n",
      "Running sample 35\n",
      "Running sample 36\n",
      "Running sample 37\n",
      "Running sample 38\n",
      "Running sample 39\n",
      "Running sample 40\n",
      "Running sample 41\n",
      "Running sample 42\n",
      "Running sample 43\n",
      "Running sample 44\n",
      "Running sample 45\n",
      "Running sample 46\n",
      "Running sample 47\n",
      "Running sample 48\n",
      "Running sample 49\n",
      "Running sample 50\n",
      "Running sample 51\n",
      "Running sample 52\n",
      "Running sample 53\n",
      "Running sample 54\n",
      "Running sample 55\n",
      "Running sample 56\n",
      "Running sample 57\n",
      "Running sample 58\n",
      "Running sample 59\n",
      "Running sample 60\n",
      "Running sample 61\n",
      "Running sample 62\n",
      "Running sample 63\n",
      "Running sample 64\n",
      "Running sample 65\n",
      "Running sample 66\n",
      "Running sample 67\n",
      "Running sample 68\n",
      "Running sample 69\n",
      "Running sample 70\n",
      "Running sample 71\n",
      "Running sample 72\n",
      "Running sample 73\n",
      "Running sample 74\n",
      "Running sample 75\n",
      "Running sample 76\n",
      "Running sample 77\n",
      "Running sample 78\n",
      "Running sample 79\n",
      "Running sample 80\n"
     ]
    }
   ],
   "source": [
    "#%%capture\n",
    "simu_ensemble = np.zeros((len(obs_data),len(sample)))\n",
    "for ii in range(0, len(sample)):\n",
    "    with io.capture_output() as captured:          # suppress inline output from ResIPy\n",
    "        # creating mesh\n",
    "        k.createMesh(res0=10**sample[ii,0])   # need to use more effective method, no need to create mesh every time\n",
    "\n",
    "        # add region\n",
    "        k.addRegion(np.array([[2,-0.3],[2,-2],[3,-2],[3,-0.3],[2,-0.3]]), 10**sample[ii,1])\n",
    "        k.addRegion(np.array([[5,-2],[5,-3.5],[8,-3.5],[8,-2],[5,-2]]), 10**sample[ii,2])\n",
    "\n",
    "        # forward modelling\n",
    "        k.forward(noise=0.025, iplot = False)\n",
    "        out_data = np.loadtxt(os.path.join(fwd_dir, 'R2_forward.dat'),skiprows =1)\n",
    "        simu_ensemble[:,ii] = out_data[:,6]\n",
    "    print(\"Running sample\",ii+1)"
   ]
  },
  {
   "cell_type": "markdown",
   "metadata": {},
   "source": [
    "### Factor Prioritisation\n",
    "\n",
    "We'll run a sensitivity analysis of the power module to see which is the most influential parameter.\n",
    "\n",
    "The results parameters are called **mu**, **sigma** and **mu_star**.\n",
    "\n",
    "* **Mu** is the mean effect caused by the input parameter being moved over its range.\n",
    "* **Sigma** is the standard deviation of the mean effect.\n",
    "* **Mu_star** is the mean absolute effect.\n",
    "\n",
    "> The higher the mean absolute effect for a parameter, the more sensitive/important it is*"
   ]
  },
  {
   "cell_type": "code",
   "execution_count": 9,
   "metadata": {},
   "outputs": [
    {
     "name": "stdout",
     "output_type": "stream",
     "text": [
      "Name                 mean(EE) mean(|EE|) std(EE)\n",
      "rho1                 54648.521 54648.521 47172.297\n",
      "rho2                 1123.619 1365.762 3184.368\n",
      "rho3                 840.350 842.033 1833.313\n"
     ]
    }
   ],
   "source": [
    "# Define an objective function: here I use the error weighted rmse\n",
    "def obj_fun(sim,obs,noise):\n",
    "    y = np.divide(sim-obs,noise)   # weighted data misfit\n",
    "    y = np.sqrt(np.inner(y,y))\n",
    "    return y\n",
    "\n",
    "output = np.zeros((1,len(sample)))\n",
    "for ii in range(0, len(sample)):\n",
    "    output[0,ii] = obj_fun(simu_ensemble[:,ii],obs_data,0.025*obs_data)    # assume 2.5% noise in the data\n",
    "    \n",
    "# Store the results for plotting of the analysis\n",
    "Si = ma.analyze(morris_problem, sample, output, print_to_console=False)\n",
    "print(\"{:20s} {:>7s} {:>7s} {:>7s}\".format(\"Name\", \"mean(EE)\", \"mean(|EE|)\", \"std(EE)\"))\n",
    "for name, s1, st, mean in zip(morris_problem['names'], \n",
    "                              Si['mu'], \n",
    "                              Si['mu_star'], \n",
    "                              Si['sigma']):\n",
    "    print(\"{:20s} {:=7.3f} {:=7.3f} {:=7.3f}\".format(name, s1, st, mean))"
   ]
  },
  {
   "cell_type": "code",
   "execution_count": 10,
   "metadata": {},
   "outputs": [
    {
     "data": {
      "image/png": "[encoded data removed]",
      "text/plain": [
       "<Figure size 432x288 with 1 Axes>"
      ]
     },
     "metadata": {
      "needs_background": "light"
     },
     "output_type": "display_data"
    }
   ],
   "source": [
    "# make a plot\n",
    "import matplotlib.pyplot as plt\n",
    "import numpy as np\n",
    "fig, ax = plt.subplots()\n",
    "ax.scatter(Si['mu_star'],Si['sigma'])\n",
    "#ax.plot(Si['mu_star'],2*Si['sigma']/np.sqrt(number_of_trajectories),'--',alpha=0.5)\n",
    "#ax.plot(np.array([0,Si['mu_star'][0]]),2*np.array([0,Si['sigma'][0]/np.sqrt(number_of_trajectories)]),'--',alpha=0.5)\n",
    "\n",
    "plt.title('Distribution of Elementary effects')\n",
    "plt.xlabel('mean(|EE|)')\n",
    "plt.ylabel('std($EE$)')\n",
    "for i, txt in enumerate(Si['names']):\n",
    "    ax.annotate(txt, (Si['mu_star'][i], Si['sigma'][i]))\n",
    "    \n",
    "# higher mean |EE|, more important factor\n",
    "# line within the dashed envelope means nonlinear or interaction effects dominant"
   ]
  },
  {
   "cell_type": "markdown",
   "metadata": {},
   "source": [
    "## Summary\n",
    "\n",
    "\n",
    "Sensitivity analysis helps you:\n",
    "\n",
    "* Think through your assumptions\n",
    "* Quantify uncertainty\n",
    "* Focus on the most influential uncertainties first\n",
    "\n",
    "Learn [Python](https://www.python.org)\n",
    "\n",
    "Similar packages to [SALib]() for other languages/programmes:\n",
    "\n",
    "* [Matlab Toolbox **SAFE** for GSA](http://www.sciencedirect.com/science/article/pii/S1364815215001188)\n",
    "* [`sensitivity` package for R](https://cran.r-project.org/web/packages/sensitivity/index.html) (Michael used it for GSA in his leak detection paper)"
   ]
  },
  {
   "cell_type": "code",
   "execution_count": 11,
   "metadata": {},
   "outputs": [],
   "source": [
    "# run this so that a navigation sidebar will bee generated when exporting this notebook as HTML\n",
    "#%%javascript\n",
    "#$('<div id=\"toc\"></div>').css({position: 'fixed', top: '120px', left: 0}).appendTo(document.body);\n",
    "#$.getScript('https://kmahelona.github.io/ipython_notebook_goodies/ipython_notebook_toc.js');"
   ]
  },
  {
   "cell_type": "code",
   "execution_count": 12,
   "metadata": {},
   "outputs": [
    {
     "name": "stdout",
     "output_type": "stream",
     "text": [
      "Help on method addRegion in module resipy.R2:\n",
      "\n",
      "addRegion(xy, res0=100, phase0=1, blocky=False, fixed=False, ax=None, iplot=False) method of resipy.R2.R2 instance\n",
      "    Add region according to a polyline defined by `xy` and assign it\n",
      "    the starting resistivity `res0`.\n",
      "    \n",
      "    Parameters\n",
      "    ----------\n",
      "    xy : array\n",
      "        Array with two columns for the x and y coordinates.\n",
      "    res0 : float, optional\n",
      "        Resistivity values of the defined area.\n",
      "    phase0 : float, optional\n",
      "        Read only if you choose the cR2 option. Phase value of the defined\n",
      "        area in mrad\n",
      "    blocky : bool, optional\n",
      "        If `True` the boundary of the region will be blocky if inversion\n",
      "        is block inversion.\n",
      "    fixed : bool, optional\n",
      "        If `True`, the inversion will keep the starting resistivity of this\n",
      "        region.\n",
      "    ax : matplotlib.axes.Axes\n",
      "        If not `None`, the region will be plotted against this axes.\n",
      "    iplot : bool, optional\n",
      "        If `True` , the updated mesh with the region will be plotted.\n",
      "\n"
     ]
    }
   ],
   "source": [
    "help(k.addRegion)"
   ]
  },
  {
   "cell_type": "code",
   "execution_count": null,
   "metadata": {},
   "outputs": [],
   "source": []
  }
 ],
 "metadata": {
  "kernelspec": {
   "display_name": "Python 3",
   "language": "python",
   "name": "python3"
  },
  "language_info": {
   "codemirror_mode": {
    "name": "ipython",
    "version": 3
   },
   "file_extension": ".py",
   "mimetype": "text/x-python",
   "name": "python",
   "nbconvert_exporter": "python",
   "pygments_lexer": "ipython3",
   "version": "3.7.3"
  }
 },
 "nbformat": 4,
 "nbformat_minor": 2
}

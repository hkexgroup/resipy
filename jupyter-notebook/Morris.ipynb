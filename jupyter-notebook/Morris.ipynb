{
 "cells": [
  {
   "cell_type": "markdown",
   "metadata": {},
   "source": [
    "# Global sensitivity analysis\n",
    "\n",
    "Global sensitivity analysis is a Monte Carlo based method to rank the importance of parameters in a given modelling problem. As opposed to local senstivity analysis, it does not require the construction of the Jacobian, making it a flexible tool to evaluate complex problems.\n",
    "\n",
    "Global sensitivty analysis is available in mainly uncertainty quantificaiton packages, as well as some flow and transport programs (e.g. iTOUGH2). GSA is also very popular in catchment modelling and civil engineering/risk analysis problems.\n",
    "\n",
    "Some GSA work in hydrogeophysics (mainly by Berkeley Lab):\n",
    "\n",
    "* coupled hydrological-thermal-geophysical inversion ([Tran et al 2017](https://www.hydrol-earth-syst-sci.net/20/3477/2016/hess-20-3477-2016.pdf))\n",
    "> Nicely show how to simplify (i.e. reduce the number of parameters) a very complex, highly coupled problem \n",
    "* making sense of global senstivity analysis ([Wainwright et al 2014](https://www.sciencedirect.com/science/article/pii/S0098300413001702))\n",
    "> Very good review article\n",
    "* hydrogeology of a nuclear site in the Paris Basin ([Deman et al 2016](https://www.sciencedirect.com/science/article/pii/S0951832015003324?via%3Dihub))\n",
    "> A different GSA method was used instead here to look at the low probability breakthrough events\n",
    "* Global Sensitivity and Data-Worth Analyses in iTOUGH2 User's Guide ([Wainwright et al 2016](http://eesatough.lbl.gov/assets/files/02/documentation/iTOUGH2-Sensitivity_Analysis.pdf))\n",
    "> An useful manual if you want to understand the details of setting up a probllem.\n",
    "\n",
    "In this tutorial, we will see how to link the **RESiPy** API and **SALib** for senstivity analysis. Two key elements of SA are (i) forward modelling (Monte Carlo runs) and (ii) specifying the parameter ranges. This notebook will showcase of the use of the *Method of Morris*, which is known for its relatively small computational cost. This tutorial is modified from the one posted on https://github.com/SALib/SATut to demonstrate its coupling with **RESiPy**"
   ]
  },
  {
   "cell_type": "code",
   "execution_count": 1,
   "metadata": {},
   "outputs": [
    {
     "name": "stdout",
     "output_type": "stream",
     "text": [
      "API path =  /media/jkl/data/phd/tmp/pyr2/src/resipy\n",
      "ResIPy version =  1.1.9\n"
     ]
    }
   ],
   "source": [
    "%matplotlib inline\n",
    "import warnings\n",
    "warnings.filterwarnings('ignore')\n",
    "import os\n",
    "import sys\n",
    "sys.path.append(os.path.relpath('../src')) # add here the relative path of the API folder\n",
    "\n",
    "import numpy as np # numpy for electrode generation\n",
    "import pandas as pd\n",
    "from IPython.utils import io  # suppress R2 outputs during MC runs\n",
    "from resipy.R2 import R2\n"
   ]
  },
  {
   "cell_type": "markdown",
   "metadata": {},
   "source": [
    "### The SALib package\n",
    "SALib is a **free** **open-source** **Python** library\n",
    "\n",
    "\n",
    "\n",
    "If you use Python, you can install it by running the command\n",
    "\n",
    "```python\n",
    "pip install SALib\n",
    "```\n",
    "\n",
    "[Documentation](http://salib.readthedocs.org/) is available online and you can also view the code on [Github](http://salib.github.io/SALib/).\n",
    "\n",
    "The library includes:\n",
    "* Sobol Sensitivity Analysis ([Sobol 2001](http://www.sciencedirect.com/science/article/pii/S0378475400002706), [Saltelli 2002](http://www.sciencedirect.com/science/article/pii/S0010465502002801), [Saltelli et al. 2010](http://www.sciencedirect.com/science/article/pii/S0010465509003087))\n",
    "* Method of Morris, including groups and optimal trajectories ([Morris 1991](http://www.tandfonline.com/doi/abs/10.1080/00401706.1991.10484804), [Campolongo et al. 2007](http://www.sciencedirect.com/science/article/pii/S1364815206002805))\n",
    "* Fourier Amplitude Sensitivity Test (FAST) ([Cukier et al. 1973](http://scitation.aip.org/content/aip/journal/jcp/59/8/10.1063/1.1680571), [Saltelli et al. 1999](http://amstat.tandfonline.com/doi/abs/10.1080/00401706.1999.10485594))\n",
    "* Delta Moment-Independent Measure ([Borgonovo 2007](http://www.sciencedirect.com/science/article/pii/S0951832006000883), [Plischke et al. 2013](http://www.sciencedirect.com/science/article/pii/S0377221712008995))\n",
    "* Derivative-based Global Sensitivity Measure (DGSM) ([Sobol and Kucherenko 2009](http://www.sciencedirect.com/science/article/pii/S0378475409000354))\n",
    "* Fractional Factorial Sensitivity Analysis ([Saltelli et al. 2008](http://www.wiley.com/WileyCDA/WileyTitle/productCd-0470059974.html))\n",
    "\n",
    "[SALib Tutorial](https://github.com/SALib/SATut)"
   ]
  },
  {
   "cell_type": "code",
   "execution_count": 3,
   "metadata": {},
   "outputs": [],
   "source": [
    "# import the packages\n",
    "from SALib.sample import morris as ms\n",
    "from SALib.analyze import morris as ma\n",
    "from SALib.plotting import morris as mp"
   ]
  },
  {
   "cell_type": "markdown",
   "metadata": {},
   "source": [
    "### Create ERT forward problem with **ResIPy**\n",
    "\n",
    "In the code below, created a R2 forward problem to be analyzed"
   ]
  },
  {
   "cell_type": "code",
   "execution_count": 4,
   "metadata": {},
   "outputs": [
    {
     "name": "stdout",
     "output_type": "stream",
     "text": [
      "Working directory is: /media/jkl/data/phd/tmp/pyr2/src/resipy/invdir\n",
      "clearing the dirname\n",
      "computed DOI : -7.67\n",
      "Using a quadrilateral mesh.\n",
      "quad\n",
      "written mesh.dat file to \n",
      "/media/jkl/data/phd/tmp/pyr2/src/resipy/invdir/mesh.dat\n",
      "Writing .in file...\n",
      "done\n",
      "\n",
      "Writing protocol.dat ...\n",
      "done\n",
      "\n",
      "Running forward model\n",
      "\n",
      "\n",
      " >> R  2    R e s i s t i v i t y   I n v e r s i o n   v3.3 <<\n",
      "\n",
      " >> D a t e : 13 - 08 - 2019\n",
      " >> My beautiful survey\n",
      " >> F o r w a r d   S o l u t i o n   S e l e c t e d <<\n",
      " >> Determining storage needed for finite element conductance matrix\n",
      " >> Generating index array for finite element conductance matrix\n",
      " >> Reading start resistivity from resistivity.dat\n",
      "\n",
      " Measurements read:   165     Measurements rejected:     0\n",
      "\n",
      " >> Total Memory required is:          0.395 Gb\n",
      "Inf or NaN: filterData: 0 / 165 quadrupoles removed.\n",
      "strange quadrupoles: filterData: 0 / 165 quadrupoles removed.\n",
      "165/165 reciprocal measurements NOT found.\n",
      "0 measurements error > 20 %\n",
      "computed DOI : -3.67\n",
      "computed DOI : -3.67\n",
      "Forward modelling done.\n",
      "Mesh plotted in 0.24795 seconds\n"
     ]
    },
    {
     "data": {
      "image/png": "[encoded data removed]",
      "text/plain": [
       "<Figure size 432x288 with 1 Axes>"
      ]
     },
     "metadata": {
      "needs_background": "light"
     },
     "output_type": "display_data"
    }
   ],
   "source": [
    "k = R2()\n",
    "\n",
    "elec = np.zeros((24,3))\n",
    "elec[:,0] = np.arange(0, 24*0.5, 0.5) # with 0.5 m spacing and 24 electrodes\n",
    "k.setElec(elec)\n",
    "#print(k.elec)\n",
    "\n",
    "# defining electrode array\n",
    "x = np.zeros((24, 3))\n",
    "x[:,0] = np.arange(0, 24*0.5, 0.5)\n",
    "k.setElec(elec)\n",
    "\n",
    "# creating mesh\n",
    "k.createMesh(res0=20)\n",
    "\n",
    "# add region\n",
    "k.addRegion(np.array([[2,-0.3],[2,-2],[3,-2],[3,-0.3],[2,-0.3]]), 50)\n",
    "k.addRegion(np.array([[5,-2],[5,-3.5],[8,-3.5],[8,-2],[5,-2]]), 500)\n",
    "\n",
    "# define sequence\n",
    "k.createSequence([('dpdp1', 1, 10)])\n",
    "\n",
    "# forward modelling\n",
    "k.forward(noise=0.025)\n",
    "\n",
    "# read results\n",
    "fwd_dir = os.path.relpath('../src/resipy/invdir/fwd')\n",
    "\n",
    "obs_data = np.loadtxt(os.path.join(fwd_dir, 'R2_forward.dat'),skiprows =1)\n",
    "obs_data = obs_data[:,6]\n",
    "\n",
    "# plot\n",
    "k.showMesh()"
   ]
  },
  {
   "cell_type": "markdown",
   "metadata": {},
   "source": [
    "### Define a problem file\n",
    "\n",
    "In the code below, a problem file is used to define the parameters and their ranges we wish to explore, which corresponds to the following table:\n",
    "\n",
    "|         Parameter        |  Range   |  Description   |\n",
    "|--------------------------|----------|----------|\n",
    "|   rho0 [ohm m]  | 10^[0.5,3.5] | background |\n",
    "|   rho1 [ohm m]  | 10^[0.5,3.5] |inclusion A|\n",
    "|   rho2 [ohm m]  | 10^[0.5,3.5] |inclusion B|\n"
   ]
  },
  {
   "cell_type": "code",
   "execution_count": 5,
   "metadata": {},
   "outputs": [],
   "source": [
    "morris_problem = {\n",
    "    'num_vars': 3,\n",
    "    # These are their names\n",
    "    'names': ['rho1', 'rho2', 'rho3'], # can add z1 z2 etc.\n",
    "    # Plausible ranges over which we'll move the variables\n",
    "    'bounds': [[0.5,3.5], # log10 of rho (ohm m)\n",
    "               [0.5,3.5], \n",
    "               [0.5,3.5]#, \n",
    "   #            [-3,-1], \n",
    "   #            [-7,-4], \n",
    "              ],\n",
    "    # I don't want to group any of these variables together\n",
    "    'groups': None\n",
    "    }"
   ]
  },
  {
   "cell_type": "markdown",
   "metadata": {},
   "source": [
    "### Generate a Sample\n",
    "\n",
    "We then generate a sample using the `morris.sample()` procedure from the SALib package."
   ]
  },
  {
   "cell_type": "code",
   "execution_count": 6,
   "metadata": {},
   "outputs": [
    {
     "name": "stdout",
     "output_type": "stream",
     "text": [
      "[2.16666667 3.5        2.16666667]\n"
     ]
    }
   ],
   "source": [
    "number_of_trajectories = 20\n",
    "sample = ms.sample(morris_problem, number_of_trajectories, num_levels=10)\n",
    "len(sample)\n",
    "print(sample[79,:])\n"
   ]
  },
  {
   "cell_type": "markdown",
   "metadata": {},
   "source": [
    "## Run the sample through the monte carlo procedure in R2\n",
    "Great! You have defined your problem and have created a series of input files for forward runs. Now you need to run R2 for each of them to obtain their ERT responses.\n",
    "\n",
    "For this example, each sample takes a few seconds to run on a PC."
   ]
  },
  {
   "cell_type": "code",
   "execution_count": 7,
   "metadata": {},
   "outputs": [
    {
     "name": "stdout",
     "output_type": "stream",
     "text": [
      "Running sample 1\n",
      "Running sample 2\n",
      "Running sample 3\n",
      "Running sample 4\n",
      "Running sample 5\n",
      "Running sample 6\n",
      "Running sample 7\n",
      "Running sample 8\n",
      "Running sample 9\n",
      "Running sample 10\n",
      "Running sample 11\n",
      "Running sample 12\n",
      "Running sample 13\n",
      "Running sample 14\n",
      "Running sample 15\n",
      "Running sample 16\n",
      "Running sample 17\n",
      "Running sample 18\n",
      "Running sample 19\n",
      "Running sample 20\n",
      "Running sample 21\n",
      "Running sample 22\n",
      "Running sample 23\n",
      "Running sample 24\n",
      "Running sample 25\n",
      "Running sample 26\n",
      "Running sample 27\n",
      "Running sample 28\n",
      "Running sample 29\n",
      "Running sample 30\n",
      "Running sample 31\n",
      "Running sample 32\n",
      "Running sample 33\n",
      "Running sample 34\n",
      "Running sample 35\n",
      "Running sample 36\n",
      "Running sample 37\n",
      "Running sample 38\n",
      "Running sample 39\n",
      "Running sample 40\n",
      "Running sample 41\n",
      "Running sample 42\n",
      "Running sample 43\n",
      "Running sample 44\n",
      "Running sample 45\n",
      "Running sample 46\n",
      "Running sample 47\n",
      "Running sample 48\n",
      "Running sample 49\n",
      "Running sample 50\n",
      "Running sample 51\n",
      "Running sample 52\n",
      "Running sample 53\n",
      "Running sample 54\n",
      "Running sample 55\n",
      "Running sample 56\n",
      "Running sample 57\n",
      "Running sample 58\n",
      "Running sample 59\n",
      "Running sample 60\n",
      "Running sample 61\n",
      "Running sample 62\n",
      "Running sample 63\n",
      "Running sample 64\n",
      "Running sample 65\n",
      "Running sample 66\n",
      "Running sample 67\n",
      "Running sample 68\n",
      "Running sample 69\n",
      "Running sample 70\n",
      "Running sample 71\n",
      "Running sample 72\n",
      "Running sample 73\n",
      "Running sample 74\n",
      "Running sample 75\n",
      "Running sample 76\n",
      "Running sample 77\n",
      "Running sample 78\n",
      "Running sample 79\n",
      "Running sample 80\n"
     ]
    }
   ],
   "source": [
    "#%%capture\n",
    "simu_ensemble = np.zeros((len(obs_data),len(sample)))\n",
    "for ii in range(0, len(sample)):\n",
    "    with io.capture_output() as captured:          # suppress inline output from ResIPy\n",
    "        # creating mesh\n",
    "        k.createMesh(res0=10**sample[ii,0])   # need to use more effective method, no need to create mesh every time\n",
    "\n",
    "        # add region\n",
    "        k.addRegion(np.array([[2,-0.3],[2,-2],[3,-2],[3,-0.3],[2,-0.3]]), 10**sample[ii,1])\n",
    "        k.addRegion(np.array([[5,-2],[5,-3.5],[8,-3.5],[8,-2],[5,-2]]), 10**sample[ii,2])\n",
    "\n",
    "        # forward modelling\n",
    "        k.forward(noise=0.025, iplot = False)\n",
    "        out_data = np.loadtxt(os.path.join(fwd_dir, 'R2_forward.dat'),skiprows =1)\n",
    "        simu_ensemble[:,ii] = out_data[:,6]\n",
    "    print(\"Running sample\",ii+1)"
   ]
  },
  {
   "cell_type": "markdown",
   "metadata": {},
   "source": [
    "### Factor Prioritisation\n",
    "\n",
    "We'll run a sensitivity analysis of the power module to see which is the most influential parameter.\n",
    "\n",
    "The results parameters are called **mu**, **sigma** and **mu_star**.\n",
    "\n",
    "* **Mu** is the mean effect caused by the input parameter being moved over its range.\n",
    "* **Sigma** is the standard deviation of the mean effect.\n",
    "* **Mu_star** is the mean absolute effect.\n",
    "\n",
    "> The higher the mean absolute effect for a parameter, the more sensitive/important it is*"
   ]
  },
  {
   "cell_type": "code",
   "execution_count": 8,
   "metadata": {},
   "outputs": [
    {
     "name": "stdout",
     "output_type": "stream",
     "text": [
      "Name                      mu mu_star   sigma\n",
      "rho1                 28021.65 28021.65 43181.28\n",
      "rho2                  783.11  786.61 1970.93\n",
      "rho3                  456.90  458.11 1275.26\n"
     ]
    }
   ],
   "source": [
    "# Define an objective function: here I use the error weighted rmse\n",
    "def obj_fun(sim,obs,noise):\n",
    "    y = np.divide(sim-obs,noise)   # weighted data misfit\n",
    "    y = np.sqrt(np.inner(y,y))\n",
    "    return y\n",
    "\n",
    "output = np.zeros((1,len(sample)))\n",
    "for ii in range(0, len(sample)):\n",
    "    output[0,ii] = obj_fun(simu_ensemble[:,ii],obs_data,0.025*obs_data)    # assume 2.5% noise in the data\n",
    "    \n",
    "# Store the results for plotting of the analysis\n",
    "Si = ma.analyze(morris_problem, sample, output, print_to_console=False)\n",
    "print(\"{:20s} {:>7s} {:>7s} {:>7s}\".format(\"Name\", \"mu\", \"mu_star\", \"sigma\"))\n",
    "for name, s1, st, mean in zip(morris_problem['names'], \n",
    "                              Si['mu'], \n",
    "                              Si['mu_star'], \n",
    "                              Si['sigma']):\n",
    "    print(\"{:20s} {:=7.2f} {:=7.2f} {:=7.2f}\".format(name, s1, st, mean))"
   ]
  },
  {
   "cell_type": "markdown",
   "metadata": {},
   "source": [
    "# Summary\n",
    "\n",
    "\n",
    "Sensitivity analysis helps you:\n",
    "\n",
    "* Think through your assumptions\n",
    "* Quantify uncertainty\n",
    "* Focus on the most influential uncertainties first\n",
    "\n",
    "Learn [Python](https://www.python.org)\n",
    "\n",
    "Similar packages to [SALib]() for other languages/programmes:\n",
    "\n",
    "* [Matlab Toolbox **SAFE** for GSA](http://www.sciencedirect.com/science/article/pii/S1364815215001188)\n",
    "* [`sensitivity` package for R](https://cran.r-project.org/web/packages/sensitivity/index.html) (Michael used it SA in his leak detection paper)"
   ]
  },
  {
   "cell_type": "code",
   "execution_count": null,
   "metadata": {},
   "outputs": [],
   "source": []
  }
 ],
 "metadata": {
  "kernelspec": {
   "display_name": "Python 3",
   "language": "python",
   "name": "python3"
  },
  "language_info": {
   "codemirror_mode": {
    "name": "ipython",
    "version": 3
   },
   "file_extension": ".py",
   "mimetype": "text/x-python",
   "name": "python",
   "nbconvert_exporter": "python",
   "pygments_lexer": "ipython3",
   "version": "3.7.3"
  }
 },
 "nbformat": 4,
 "nbformat_minor": 2
}

{
 "cells": [
  {
   "cell_type": "markdown",
   "metadata": {},
   "source": [
    "# 3D complex inversion from 2D lines\n",
    "Carbonate precipitation is a process that can be used to consolidate soils. The precipitation of carbonate in the ground can be followed using geophysical methods. Induced polarisation (IP) has proven useful for this. In this dataset, the 3D distribution of carbonate precipitation is inferred from field time-domain IP data. See [Sina et al. (200X)](https://doi.org/) for more "
   ]
  }
 ],
 "metadata": {
  "kernelspec": {
   "display_name": "Python 3",
   "language": "python",
   "name": "python3"
  },
  "language_info": {
   "codemirror_mode": {
    "name": "ipython",
    "version": 3
   },
   "file_extension": ".py",
   "mimetype": "text/x-python",
   "name": "python",
   "nbconvert_exporter": "python",
   "pygments_lexer": "ipython3",
   "version": "3.7.3"
  }
 },
 "nbformat": 4,
 "nbformat_minor": 4
}

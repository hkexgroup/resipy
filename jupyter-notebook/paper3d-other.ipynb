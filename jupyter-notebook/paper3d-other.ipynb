{
 "cells": [
  {
   "cell_type": "markdown",
   "metadata": {},
   "source": [
    "# other figure from paper on 3D"
   ]
  },
  {
   "cell_type": "code",
   "execution_count": 1,
   "metadata": {},
   "outputs": [],
   "source": [
    "%load_ext autoreload\n",
    "%autoreload 2"
   ]
  },
  {
   "cell_type": "code",
   "execution_count": 2,
   "metadata": {},
   "outputs": [
    {
     "name": "stdout",
     "output_type": "stream",
     "text": [
      "API path =  C:\\Users\\gblanchy\\WPy64-3890\\python-3.8.9.amd64\\lib\\site-packages\\resipy\n",
      "ResIPy version =  3.3.2\n",
      "cR2.exe found and up to date.\n",
      "R3t.exe found and up to date.\n",
      "cR3t.exe found and up to date.\n"
     ]
    }
   ],
   "source": [
    " # trick to import a resipy from a local copy (you won't need that if you `pip install resipy`)\n",
    "import sys \n",
    "sys.path.append('../src')\n",
    "\n",
    "from resipy import Project\n",
    "import numpy as np\n",
    "import matplotlib.pyplot as plt\n",
    "import pyvista as pv\n",
    "\n",
    "datadir = '../src/examples/dc-3d/'\n",
    "figdir = '../src/image/paper3d/'"
   ]
  },
  {
   "cell_type": "markdown",
   "metadata": {},
   "source": [
    "## 3D features"
   ]
  },
  {
   "cell_type": "code",
   "execution_count": 3,
   "metadata": {},
   "outputs": [
    {
     "name": "stdout",
     "output_type": "stream",
     "text": [
      "Working directory is: C:\\Users\\gblanchy\\WPy64-3890\\python-3.8.9.amd64\\lib\\site-packages\\resipy\n",
      "clearing dirname\n"
     ]
    },
    {
     "name": "stderr",
     "output_type": "stream",
     "text": [
      "C:\\Users\\gblanchy\\WPy64-3890\\python-3.8.9.amd64\\lib\\site-packages\\ipykernel\\ipkernel.py:283: DeprecationWarning: `should_run_async` will not call `transform_cell` automatically in the future. Please pass the result to `transformed_cell` argument and any exception that happen during thetransform in `preprocessing_exc_tuple` in IPython 7.17 and above.\n",
      "  and should_run_async(code)\n"
     ]
    },
    {
     "name": "stdout",
     "output_type": "stream",
     "text": [
      "0/644 reciprocal measurements found.\n",
      "Creating tetrahedral mesh...done (31534 elements)\n",
      "Writing .in file and protocol.dat... done\n",
      "\n",
      "--------------------- MAIN INVERSION ------------------\n",
      "\n",
      "\n",
      " >> R 3 t     E R T    M o d e l    v 2.31 <<\n",
      "\n",
      " >> Date: 06-11-2021\n",
      " >> My beautiful 3D survey                                                          \n",
      " >> I n v e r s e   S o l u t i o n   S e l e c t e d <<\n",
      " >> A d v a n c e d   M e s h   I n p u t <<\n",
      " >> T e t r a h e d r a l   E l e m e n t   M e s h <<\n",
      "\n",
      " >> Reading mesh file \n",
      " >> Determining storage needed for finite element conductance matrix\n",
      " >> Generating index array for finite element conductance matrix\n",
      " >> Reading resistivity model from res0.dat                                                                        \n",
      "\n",
      " >> L o g - D a t a   I n v e r s i o n <<\n",
      " >> N o r m a l   R e g u l a r i s a t i o n <<\n",
      "\n",
      " >> Memory estimates:\n",
      "    For   1000 measurements the memory needed is:          0.262 Gb\n",
      "    For   2000 measurements the memory needed is:          0.514 Gb\n",
      "    For   5000 measurements the memory needed is:          1.271 Gb\n",
      "    For  10000 measurements the memory needed is:          2.533 Gb\n",
      "\n",
      " >> Forming roughness matrix\n",
      "\n",
      " >> Number of measurements read:  644\n",
      "\n",
      " >> Total Memory required is:          0.172 Gb\n",
      "\n",
      "\n",
      " Processing frame   1 - output to file f001.dat\n",
      "\n",
      "   Iteration   1\n",
      "     Initial RMS Misfit:         2.29      Number of data ignored:     0\n",
      "     Alpha:          65.463   RMS Misfit:        0.52  Roughness:        2.791\n",
      "     Step length set to      1.000\n",
      "     Final RMS Misfit:        0.52\n",
      "     Final RMS Misfit:        1.01\n",
      "\n",
      " Solution converged - Outputing results to file\n",
      "\n",
      " Calculating sensitivity map\n",
      "\n",
      " End of data:  Terminating\n",
      "\n",
      "\n",
      " >> Program ended normally\n",
      "\n",
      "1/1 results parsed (1 ok; 0 failed)\n"
     ]
    }
   ],
   "source": [
    "k = Project(typ='R3t')\n",
    "k.createSurvey(datadir + 'protocol.dat', ftype='ProtocolDC')\n",
    "k.importElec(datadir + 'elec.csv')\n",
    "k.createMesh()\n",
    "k.invert()"
   ]
  },
  {
   "cell_type": "code",
   "execution_count": 4,
   "metadata": {},
   "outputs": [
    {
     "data": {
      "application/vnd.jupyter.widget-view+json": {
       "model_id": "4429da122b6a4927a1a019bf2b0c5877",
       "version_major": 2,
       "version_minor": 0
      },
      "text/plain": [
       "ViewInteractiveWidget(height=400, layout=Layout(height='auto', width='100%'), width=1000)"
      ]
     },
     "metadata": {},
     "output_type": "display_data"
    }
   ],
   "source": [
    "pl = pv.Plotter(shape=(1,3), window_size=[1000, 400])\n",
    "pl.subplot(0, 0)\n",
    "pl.add_text('(a) 3D Pseudo section', color='k')\n",
    "k.showPseudo(ax=pl, threed=True, pvshow=False)\n",
    "pl.subplot(0, 1)\n",
    "pl.add_text('(b) Tetrahedral mesh', color='k')\n",
    "k.showMesh(ax=pl, pvshow=False)\n",
    "pl.subplot(0, 2)\n",
    "pl.add_text('(c) Inversion result', color='k')\n",
    "k.showResults(ax=pl, attr='Resistivity(log10)', vmax=2.1, background_color=(1,1,1),\n",
    "              pvslices=[[10,20,30,40],[0],[]], pvshow=False)\n",
    "pl.show(screenshot=figdir + 'feat-3d.jpg');"
   ]
  },
  {
   "cell_type": "code",
   "execution_count": 5,
   "metadata": {},
   "outputs": [
    {
     "data": {
      "application/vnd.jupyter.widget-view+json": {
       "model_id": "a06987e8685d4dddb956d3b82dc80879",
       "version_major": 2,
       "version_minor": 0
      },
      "text/plain": [
       "ViewInteractiveWidget(height=400, layout=Layout(height='auto', width='100%'), width=1000)"
      ]
     },
     "metadata": {},
     "output_type": "display_data"
    }
   ],
   "source": [
    "pl = pv.Plotter(shape=(1,3), window_size=[1000, 400])\n",
    "background_color=(0.99, 0.99, 0.99) # if 1, legend doesn't show up\n",
    "pl.subplot(0, 0)\n",
    "pl.add_text('(a) Slicing', color='k')\n",
    "k.showResults(ax=pl, attr='Resistivity(log10)', vmax=2.1, background_color=background_color,\n",
    "              pvslices=[[10,20,30,40],[0],[]], pvshow=False)\n",
    "pl.subplot(0, 1)\n",
    "pl.add_text('(b) Thresholding', color='k')\n",
    "k.showResults(ax=pl, attr='Resistivity(log10)', vmax=2.1, background_color=background_color,\n",
    "              pvthreshold=2.05, pvshow=False)\n",
    "pl.subplot(0, 2)\n",
    "pl.add_text('(c) Isosurface', color='k')\n",
    "k.showResults(ax=pl, attr='Resistivity(log10)', vmax=2.1, background_color=background_color,\n",
    "              pvcontour=np.linspace(1.9, 2.1, 10), pvshow=False)\n",
    "pl.show(screenshot=figdir + 'pyvista-option.jpg');"
   ]
  },
  {
   "cell_type": "markdown",
   "metadata": {},
   "source": [
    "## Mesh refinement"
   ]
  },
  {
   "cell_type": "code",
   "execution_count": 6,
   "metadata": {},
   "outputs": [
    {
     "name": "stdout",
     "output_type": "stream",
     "text": [
      "Working directory is: C:\\Users\\gblanchy\\WPy64-3890\\python-3.8.9.amd64\\lib\\site-packages\\resipy\n",
      "clearing dirname\n",
      "Creating tetrahedral mesh...done (3037 elements)\n"
     ]
    }
   ],
   "source": [
    "k = Project(typ='R3t')\n",
    "elec = np.zeros((30,3))\n",
    "elec[:,0] = np.repeat([1,2,3],10)\n",
    "elec[:,1] = np.tile(np.arange(10), 3)\n",
    "k.setElec(elec)\n",
    "k.createMesh('tetra')\n",
    "meshRefined = k.mesh.refine()"
   ]
  },
  {
   "cell_type": "code",
   "execution_count": 8,
   "metadata": {},
   "outputs": [
    {
     "ename": "IndexError",
     "evalue": "Column index is out of range (1)",
     "output_type": "error",
     "traceback": [
      "\u001b[1;31m---------------------------------------------------------------------------\u001b[0m",
      "\u001b[1;31mIndexError\u001b[0m                                Traceback (most recent call last)",
      "\u001b[1;32m<ipython-input-8-fe25ac6e81a5>\u001b[0m in \u001b[0;36m<module>\u001b[1;34m\u001b[0m\n\u001b[0;32m      3\u001b[0m \u001b[0mpl\u001b[0m\u001b[1;33m.\u001b[0m\u001b[0madd_text\u001b[0m\u001b[1;33m(\u001b[0m\u001b[1;34m'(a) Normal mesh'\u001b[0m\u001b[1;33m,\u001b[0m \u001b[0mcolor\u001b[0m\u001b[1;33m=\u001b[0m\u001b[1;34m'k'\u001b[0m\u001b[1;33m)\u001b[0m\u001b[1;33m\u001b[0m\u001b[1;33m\u001b[0m\u001b[0m\n\u001b[0;32m      4\u001b[0m \u001b[0mk\u001b[0m\u001b[1;33m.\u001b[0m\u001b[0mshowMesh\u001b[0m\u001b[1;33m(\u001b[0m\u001b[0mattr\u001b[0m\u001b[1;33m=\u001b[0m\u001b[1;34m'param'\u001b[0m\u001b[1;33m,\u001b[0m \u001b[0max\u001b[0m\u001b[1;33m=\u001b[0m\u001b[0mpl\u001b[0m\u001b[1;33m,\u001b[0m \u001b[0mpvshow\u001b[0m\u001b[1;33m=\u001b[0m\u001b[1;32mFalse\u001b[0m\u001b[1;33m,\u001b[0m \u001b[0mcolor_map\u001b[0m\u001b[1;33m=\u001b[0m\u001b[1;34m'rainbow'\u001b[0m\u001b[1;33m,\u001b[0m \u001b[0mbackground_color\u001b[0m\u001b[1;33m=\u001b[0m\u001b[1;33m(\u001b[0m\u001b[1;36m0.99\u001b[0m\u001b[1;33m,\u001b[0m\u001b[1;36m0.99\u001b[0m\u001b[1;33m,\u001b[0m\u001b[1;36m0.99\u001b[0m\u001b[1;33m)\u001b[0m\u001b[1;33m)\u001b[0m\u001b[1;33m\u001b[0m\u001b[1;33m\u001b[0m\u001b[0m\n\u001b[1;32m----> 5\u001b[1;33m \u001b[0mpl\u001b[0m\u001b[1;33m.\u001b[0m\u001b[0msubplot\u001b[0m\u001b[1;33m(\u001b[0m\u001b[1;36m0\u001b[0m\u001b[1;33m,\u001b[0m \u001b[1;36m1\u001b[0m\u001b[1;33m)\u001b[0m\u001b[1;33m\u001b[0m\u001b[1;33m\u001b[0m\u001b[0m\n\u001b[0m\u001b[0;32m      6\u001b[0m \u001b[0mpl\u001b[0m\u001b[1;33m.\u001b[0m\u001b[0madd_text\u001b[0m\u001b[1;33m(\u001b[0m\u001b[1;34m'(b) Refined mesh'\u001b[0m\u001b[1;33m,\u001b[0m \u001b[0mcolor\u001b[0m\u001b[1;33m=\u001b[0m\u001b[1;34m'k'\u001b[0m\u001b[1;33m)\u001b[0m\u001b[1;33m\u001b[0m\u001b[1;33m\u001b[0m\u001b[0m\n\u001b[0;32m      7\u001b[0m meshRefined.show(attr='param', ax=pl, pvshow=False, color_map='rainbow', background_color=(0.99,0.99,0.99),\n",
      "\u001b[1;32m~\\WPy64-3890\\python-3.8.9.amd64\\lib\\site-packages\\pyvista\\plotting\\plotting.py\u001b[0m in \u001b[0;36msubplot\u001b[1;34m(self, index_row, index_column)\u001b[0m\n\u001b[0;32m    338\u001b[0m \u001b[1;33m\u001b[0m\u001b[0m\n\u001b[0;32m    339\u001b[0m         \"\"\"\n\u001b[1;32m--> 340\u001b[1;33m         \u001b[0mself\u001b[0m\u001b[1;33m.\u001b[0m\u001b[0mrenderers\u001b[0m\u001b[1;33m.\u001b[0m\u001b[0mset_active_renderer\u001b[0m\u001b[1;33m(\u001b[0m\u001b[0mindex_row\u001b[0m\u001b[1;33m,\u001b[0m \u001b[0mindex_column\u001b[0m\u001b[1;33m)\u001b[0m\u001b[1;33m\u001b[0m\u001b[1;33m\u001b[0m\u001b[0m\n\u001b[0m\u001b[0;32m    341\u001b[0m \u001b[1;33m\u001b[0m\u001b[0m\n\u001b[0;32m    342\u001b[0m     \u001b[1;33m@\u001b[0m\u001b[0mwraps\u001b[0m\u001b[1;33m(\u001b[0m\u001b[0mRenderer\u001b[0m\u001b[1;33m.\u001b[0m\u001b[0madd_floor\u001b[0m\u001b[1;33m)\u001b[0m\u001b[1;33m\u001b[0m\u001b[1;33m\u001b[0m\u001b[0m\n",
      "\u001b[1;32m~\\WPy64-3890\\python-3.8.9.amd64\\lib\\site-packages\\pyvista\\plotting\\renderers.py\u001b[0m in \u001b[0;36mset_active_renderer\u001b[1;34m(self, index_row, index_column)\u001b[0m\n\u001b[0;32m    250\u001b[0m             \u001b[1;32mraise\u001b[0m \u001b[0mIndexError\u001b[0m\u001b[1;33m(\u001b[0m\u001b[1;34mf'Row index is out of range ({self.shape[0]})'\u001b[0m\u001b[1;33m)\u001b[0m\u001b[1;33m\u001b[0m\u001b[1;33m\u001b[0m\u001b[0m\n\u001b[0;32m    251\u001b[0m         \u001b[1;32mif\u001b[0m \u001b[0mindex_column\u001b[0m \u001b[1;33m<\u001b[0m \u001b[1;36m0\u001b[0m \u001b[1;32mor\u001b[0m \u001b[0mindex_column\u001b[0m \u001b[1;33m>=\u001b[0m \u001b[0mself\u001b[0m\u001b[1;33m.\u001b[0m\u001b[0mshape\u001b[0m\u001b[1;33m[\u001b[0m\u001b[1;36m1\u001b[0m\u001b[1;33m]\u001b[0m\u001b[1;33m:\u001b[0m\u001b[1;33m\u001b[0m\u001b[1;33m\u001b[0m\u001b[0m\n\u001b[1;32m--> 252\u001b[1;33m             \u001b[1;32mraise\u001b[0m \u001b[0mIndexError\u001b[0m\u001b[1;33m(\u001b[0m\u001b[1;34mf'Column index is out of range ({self.shape[1]})'\u001b[0m\u001b[1;33m)\u001b[0m\u001b[1;33m\u001b[0m\u001b[1;33m\u001b[0m\u001b[0m\n\u001b[0m\u001b[0;32m    253\u001b[0m         \u001b[0mself\u001b[0m\u001b[1;33m.\u001b[0m\u001b[0m_active_index\u001b[0m \u001b[1;33m=\u001b[0m \u001b[0mself\u001b[0m\u001b[1;33m.\u001b[0m\u001b[0mloc_to_index\u001b[0m\u001b[1;33m(\u001b[0m\u001b[1;33m(\u001b[0m\u001b[0mindex_row\u001b[0m\u001b[1;33m,\u001b[0m \u001b[0mindex_column\u001b[0m\u001b[1;33m)\u001b[0m\u001b[1;33m)\u001b[0m\u001b[1;33m\u001b[0m\u001b[1;33m\u001b[0m\u001b[0m\n\u001b[0;32m    254\u001b[0m \u001b[1;33m\u001b[0m\u001b[0m\n",
      "\u001b[1;31mIndexError\u001b[0m: Column index is out of range (1)"
     ]
    }
   ],
   "source": [
    "pl = pv.Plotter(notebook=True, window_size=[1000, 600], shape=(1, 2),\n",
    "pl.subplot(0, 0)\n",
    "pl.add_text('(a) Normal mesh', color='k')\n",
    "k.showMesh(attr='param', ax=pl, pvshow=False, color_map='rainbow', background_color=(0.99,0.99,0.99))\n",
    "pl.subplot(0, 1)\n",
    "pl.add_text('(b) Refined mesh', color='k')\n",
    "meshRefined.show(attr='param', ax=pl, pvshow=False, color_map='rainbow', background_color=(0.99,0.99,0.99),\n",
    "                 zlim=[-3,0])\n",
    "pl.show(screenshot=figdir + 'mesh-refinement.jpg');"
   ]
  },
  {
   "cell_type": "code",
   "execution_count": null,
   "metadata": {},
   "outputs": [],
   "source": [
    "pl = pv.Plotter(shape=(1, 2), notebook=True, window_size=[1000,600])\n",
    "pl.subplot(0, 0)\n",
    "pl.add_text('(a) Normal mesh', color='k')\n",
    "k.showMesh(attr='param', ax=pl, pvshow=False, color_map='rainbow', background_color=(0.99,0.99,0.99))\n",
    "pl.subplot(0, 1)\n",
    "pl.add_text('(b) Refined mesh', color='k')\n",
    "meshRefined.show(attr='param', ax=pl, pvshow=False, color_map='rainbow', background_color=(0.99,0.99,0.99),\n",
    "                 zlim=[-3,0])\n",
    "pl.show(screenshot=figdir + 'mesh-refinement.jpg');"
   ]
  },
  {
   "cell_type": "markdown",
   "metadata": {},
   "source": [
    "## Benchmarking advanced mesh?"
   ]
  },
  {
   "cell_type": "code",
   "execution_count": null,
   "metadata": {},
   "outputs": [],
   "source": []
  }
 ],
 "metadata": {
  "kernelspec": {
   "display_name": "Python 3",
   "language": "python",
   "name": "python3"
  },
  "language_info": {
   "codemirror_mode": {
    "name": "ipython",
    "version": 3
   },
   "file_extension": ".py",
   "mimetype": "text/x-python",
   "name": "python",
   "nbconvert_exporter": "python",
   "pygments_lexer": "ipython3",
   "version": "3.8.9"
  }
 },
 "nbformat": 4,
 "nbformat_minor": 4
}

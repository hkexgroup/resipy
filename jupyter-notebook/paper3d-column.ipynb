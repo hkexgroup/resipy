{
 "cells": [
  {
   "cell_type": "markdown",
   "metadata": {},
   "source": [
    "# Time-lapse tracer experiment in sand column\n",
    "In this experiment, time-lapse ERT is used to monitor the infiltration of a tracer in a sand column.\n",
    "\n",
    "- injection at 40 mm/h\n",
    "- 2000 uS/cm for 120 min\n",
    "- seq2 with 250 ms on-time\n",
    "\n",
    "Plan of the experimental setup:\n",
    "\n",
    "<img src=\"img/column-schema.jpg\" width=\"400\" height=\"1000\">"
   ]
  },
  {
   "cell_type": "code",
   "execution_count": 18,
   "metadata": {},
   "outputs": [],
   "source": [
    " # trick to import a resipy from a local copy (you won't need that if you `pip install resipy`)\n",
    "import sys \n",
    "sys.path.append('../src')\n",
    "\n",
    "from resipy import R2\n",
    "import numpy as np\n",
    "import pandas as pd\n",
    "import matplotlib.pyplot as plt\n",
    "import pyvista as pv\n",
    "import os\n",
    "import shutil\n",
    "\n",
    "wd = '../src/examples/dc-3d-timelapse-column/'"
   ]
  },
  {
   "cell_type": "code",
   "execution_count": 22,
   "metadata": {},
   "outputs": [],
   "source": [
    "# each sequence is actually composed of 24 repeated injection\n",
    "# the function below separate each set of injection into different\n",
    "# dataframe\n",
    "def writedf(fnames, wd):\n",
    "    if os.path.exists(wd + 'data/'):\n",
    "        shutil.rmtree(wd + 'data/')\n",
    "    os.mkdir(wd + 'data/')\n",
    "    dfs = []\n",
    "    c = 0\n",
    "    for i, fname in enumerate(fnames):\n",
    "        df = pd.read_csv(datadir + 'ert/' + fname + '.csv')\n",
    "        for j in range(df.shape[0]//100):\n",
    "            sdf = df[j*100:(j+1)*100]\n",
    "            dfs.append(sdf)\n",
    "            c += 1\n",
    "            sdf.to_csv(wd + 'data/dataset{:03.0f}.csv'.format(c), index=False)\n",
    "    return dfs\n",
    "\n",
    "def showOutflow(fname, ax=None, label=''):\n",
    "    df = pd.read_csv(fname, header=2, sep=' ')\n",
    "    df['hh:mm:ss'] = pd.to_datetime(df['hh:mm:ss'])\n",
    "    df['t'] = [(a - df['hh:mm:ss'].values[0]).seconds for a in df['hh:mm:ss']]\n",
    "    if ax is None:\n",
    "        fig, ax = plt.subplots()\n",
    "    ax.plot(df['t'], df['mS'], '.-', label=label)\n",
    "    ax.set_xlabel('Time [s]')\n",
    "    ax.set_ylabel('mS')\n",
    "\n",
    "def showEvol(k, dt=2, ax=None): # dt is time interval in seconds\n",
    "    vals = np.vstack([s.df['resist'].values[0::20] for s in k.surveys])\n",
    "    xx = np.arange(0, len(k.surveys))*dt\n",
    "    if ax == None:\n",
    "        fig, ax = plt.subplots()\n",
    "    for i in range(vals.shape[1]):\n",
    "        ax.semilogy(xx, vals[:,i], '.-', label='ring {:d}'.format(i+1))\n",
    "    ax.set_xlabel('Time [s]')\n",
    "    ax.legend()\n",
    "    ax.set_ylabel(r'Transfer Resistance [$\\Omega$]')"
   ]
  },
  {
   "cell_type": "code",
   "execution_count": 25,
   "metadata": {},
   "outputs": [],
   "source": [
    "fnames = ['202030201',\n",
    "          '202030202']\n",
    "k = R2(wd, typ='R3t')\n",
    "# k = R2(typ='R3t')\n",
    "# k.dirname = wd\n",
    "dfs = writedf(fnames, wd)\n",
    "k.createTimeLapseSurvey(wd + 'data/')"
   ]
  },
  {
   "cell_type": "code",
   "execution_count": 36,
   "metadata": {},
   "outputs": [
    {
     "name": "stdout",
     "output_type": "stream",
     "text": [
      "(23, 6)\n",
      "       x    y    z  remote  buried label\n",
      "0    0.0  0.0  0.0   False   False     1\n",
      "1    3.0  0.0  0.0   False   False     2\n",
      "2    6.0  0.0  0.0   False   False     3\n",
      "3    9.0  0.0  0.0   False   False     4\n",
      "4   12.0  0.0  0.0   False   False     5\n",
      "5   15.0  0.0  0.0   False   False     6\n",
      "6   18.0  0.0  0.0   False   False     7\n",
      "7   21.0  0.0  0.0   False   False     8\n",
      "8   24.0  0.0  0.0   False   False     9\n",
      "9   27.0  0.0  0.0   False   False    10\n",
      "10  30.0  0.0  0.0   False   False    11\n",
      "11  33.0  0.0  0.0   False   False    12\n",
      "12  36.0  0.0  0.0   False   False    13\n",
      "13  39.0  0.0  0.0   False   False    14\n",
      "14  42.0  0.0  0.0   False   False    15\n",
      "15  45.0  0.0  0.0   False   False    16\n",
      "16  48.0  0.0  0.0   False   False    17\n",
      "17  51.0  0.0  0.0   False   False    18\n",
      "18  54.0  0.0  0.0   False   False    19\n",
      "19  57.0  0.0  0.0   False   False    20\n",
      "20  60.0  0.0  0.0   False   False    21\n",
      "21  63.0  0.0  0.0   False   False    22\n",
      "22  66.0  0.0  0.0   False   False    23\n",
      "['0' '1' '10' '11' '12' '13' '14' '15' '16' '17' '18' '19' '2' '20' '21'\n",
      " '22' '23' '3' '4' '5' '6' '7' '8' '9']\n",
      "24\n",
      "[ 0  3  6  9 12 15 18 21 24 27 30 33 36 39 42 45 48 51 54 57 60 63 66]\n",
      "(23, 3)\n",
      "               x             y      z  remote  buried label\n",
      "0   3.250000e+00  0.000000e+00  45.35   False   False     1\n",
      "1   1.990051e-16  3.250000e+00  45.35   False   False     2\n",
      "2  -3.250000e+00  3.980102e-16  45.35   False   False     3\n",
      "3  -5.970153e-16 -3.250000e+00  45.35   False   False     4\n",
      "4   3.250000e+00  0.000000e+00  39.80   False   False     5\n",
      "5   1.990051e-16  3.250000e+00  39.80   False   False     6\n",
      "6  -3.250000e+00  3.980102e-16  39.80   False   False     7\n",
      "7  -5.970153e-16 -3.250000e+00  39.80   False   False     8\n",
      "8   3.250000e+00  0.000000e+00  34.25   False   False     9\n",
      "9   1.990051e-16  3.250000e+00  34.25   False   False    10\n",
      "10 -3.250000e+00  3.980102e-16  34.25   False   False    11\n",
      "11 -5.970153e-16 -3.250000e+00  34.25   False   False    12\n",
      "12  3.250000e+00  0.000000e+00  28.70   False   False    13\n",
      "13  1.990051e-16  3.250000e+00  28.70   False   False    14\n",
      "14 -3.250000e+00  3.980102e-16  28.70   False   False    15\n",
      "15 -5.970153e-16 -3.250000e+00  28.70   False   False    16\n",
      "16  3.250000e+00  0.000000e+00  23.15   False   False    17\n",
      "17  1.990051e-16  3.250000e+00  23.15   False   False    18\n",
      "18 -3.250000e+00  3.980102e-16  23.15   False   False    19\n",
      "19 -5.970153e-16 -3.250000e+00  23.15   False   False    20\n",
      "20  3.250000e+00  0.000000e+00  17.60   False   False    21\n",
      "21  1.990051e-16  3.250000e+00  17.60   False   False    22\n",
      "22 -3.250000e+00  3.980102e-16  17.60   False   False    23\n"
     ]
    },
    {
     "ename": "ValueError",
     "evalue": "The following electrode labels are missing from the electrode declaration: 0",
     "output_type": "error",
     "traceback": [
      "\u001b[0;31m---------------------------------------------------------------------------\u001b[0m",
      "\u001b[0;31mValueError\u001b[0m                                Traceback (most recent call last)",
      "\u001b[0;32m<ipython-input-36-f1ea118b9344>\u001b[0m in \u001b[0;36m<module>\u001b[0;34m\u001b[0m\n\u001b[1;32m     19\u001b[0m \u001b[0my\u001b[0m \u001b[0;34m=\u001b[0m \u001b[0mk\u001b[0m\u001b[0;34m.\u001b[0m\u001b[0m_num2elec\u001b[0m\u001b[0;34m(\u001b[0m\u001b[0mx\u001b[0m\u001b[0;34m)\u001b[0m\u001b[0;34m\u001b[0m\u001b[0;34m\u001b[0m\u001b[0m\n\u001b[1;32m     20\u001b[0m \u001b[0mprint\u001b[0m\u001b[0;34m(\u001b[0m\u001b[0my\u001b[0m\u001b[0;34m)\u001b[0m\u001b[0;34m\u001b[0m\u001b[0;34m\u001b[0m\u001b[0m\n\u001b[0;32m---> 21\u001b[0;31m \u001b[0mk\u001b[0m\u001b[0;34m.\u001b[0m\u001b[0msetElec\u001b[0m\u001b[0;34m(\u001b[0m\u001b[0mx\u001b[0m\u001b[0;34m)\u001b[0m\u001b[0;34m\u001b[0m\u001b[0;34m\u001b[0m\u001b[0m\n\u001b[0m",
      "\u001b[0;32m/media/jkl/data/phd/tmp/resipy/src/resipy/R2.py\u001b[0m in \u001b[0;36msetElec\u001b[0;34m(self, elec, elecList)\u001b[0m\n\u001b[1;32m    359\u001b[0m                         \u001b[0;32melse\u001b[0m\u001b[0;34m:\u001b[0m\u001b[0;34m\u001b[0m\u001b[0;34m\u001b[0m\u001b[0m\n\u001b[1;32m    360\u001b[0m                             raise ValueError('The following electrode labels are missing'\n\u001b[0;32m--> 361\u001b[0;31m                                   ' from the electrode declaration: ' + ', '.join(s2[~np.in1d(s2, x)]))\n\u001b[0m\u001b[1;32m    362\u001b[0m                     \u001b[0;32melse\u001b[0m\u001b[0;34m:\u001b[0m\u001b[0;34m\u001b[0m\u001b[0;34m\u001b[0m\u001b[0m\n\u001b[1;32m    363\u001b[0m                         \u001b[0;32mif\u001b[0m \u001b[0melec\u001b[0m\u001b[0;34m.\u001b[0m\u001b[0mshape\u001b[0m\u001b[0;34m[\u001b[0m\u001b[0;36m0\u001b[0m\u001b[0;34m]\u001b[0m \u001b[0;34m>=\u001b[0m \u001b[0mself\u001b[0m\u001b[0;34m.\u001b[0m\u001b[0melec\u001b[0m\u001b[0;34m.\u001b[0m\u001b[0mshape\u001b[0m\u001b[0;34m[\u001b[0m\u001b[0;36m0\u001b[0m\u001b[0;34m]\u001b[0m\u001b[0;34m:\u001b[0m\u001b[0;34m\u001b[0m\u001b[0;34m\u001b[0m\u001b[0m\n",
      "\u001b[0;31mValueError\u001b[0m: The following electrode labels are missing from the electrode declaration: 0"
     ]
    }
   ],
   "source": [
    "radius = 6.5/2 # cm\n",
    "angles = np.linspace(0, 2*np.pi, 13)[:-1] # radian\n",
    "celec = np.c_[radius*np.cos(angles), radius*np.sin(angles)]\n",
    "elec = np.c_[np.tile(celec.T, 8).T, np.repeat(6.5+np.arange(0, 8*5.55, 5.55)[::-1], 12)]\n",
    "print(k.elec.shape)\n",
    "\n",
    "print(k.elec)\n",
    "\n",
    "s2 = np.unique(k.surveys[0].df[['a','b','m','n']].values.flatten())\n",
    "print(s2)\n",
    "print(len(s2))\n",
    "\n",
    "ielec = k.elec['x'].astype(int).values # electrode indices used in the sequence\n",
    "print(ielec)\n",
    "\n",
    "x = elec[ielec,:]\n",
    "print(x.shape)\n",
    "\n",
    "y = k._num2elec(x)\n",
    "print(y)\n",
    "k.setElec(x)"
   ]
  },
  {
   "cell_type": "code",
   "execution_count": 27,
   "metadata": {},
   "outputs": [
    {
     "name": "stdout",
     "output_type": "stream",
     "text": [
      "       x    y    z  remote  buried label\n",
      "0    0.0  0.0  0.0   False   False     1\n",
      "1    3.0  0.0  0.0   False   False     2\n",
      "2    6.0  0.0  0.0   False   False     3\n",
      "3    9.0  0.0  0.0   False   False     4\n",
      "4   12.0  0.0  0.0   False   False     5\n",
      "5   15.0  0.0  0.0   False   False     6\n",
      "6   18.0  0.0  0.0   False   False     7\n",
      "7   21.0  0.0  0.0   False   False     8\n",
      "8   24.0  0.0  0.0   False   False     9\n",
      "9   27.0  0.0  0.0   False   False    10\n",
      "10  30.0  0.0  0.0   False   False    11\n",
      "11  33.0  0.0  0.0   False   False    12\n",
      "12  36.0  0.0  0.0   False   False    13\n",
      "13  39.0  0.0  0.0   False   False    14\n",
      "14  42.0  0.0  0.0   False   False    15\n",
      "15  45.0  0.0  0.0   False   False    16\n",
      "16  48.0  0.0  0.0   False   False    17\n",
      "17  51.0  0.0  0.0   False   False    18\n",
      "18  54.0  0.0  0.0   False   False    19\n",
      "19  57.0  0.0  0.0   False   False    20\n",
      "20  60.0  0.0  0.0   False   False    21\n",
      "21  63.0  0.0  0.0   False   False    22\n",
      "22  66.0  0.0  0.0   False   False    23\n"
     ]
    },
    {
     "ename": "ValueError",
     "evalue": "The following electrode labels are missing from the electrode declaration: 0",
     "output_type": "error",
     "traceback": [
      "\u001b[0;31m---------------------------------------------------------------------------\u001b[0m",
      "\u001b[0;31mValueError\u001b[0m                                Traceback (most recent call last)",
      "\u001b[0;32m<ipython-input-27-9d5497bbf938>\u001b[0m in \u001b[0;36m<module>\u001b[0;34m\u001b[0m\n\u001b[1;32m      1\u001b[0m \u001b[0mprint\u001b[0m\u001b[0;34m(\u001b[0m\u001b[0mk\u001b[0m\u001b[0;34m.\u001b[0m\u001b[0melec\u001b[0m\u001b[0;34m)\u001b[0m\u001b[0;34m\u001b[0m\u001b[0;34m\u001b[0m\u001b[0m\n\u001b[0;32m----> 2\u001b[0;31m \u001b[0mk\u001b[0m\u001b[0;34m.\u001b[0m\u001b[0mimportElec\u001b[0m\u001b[0;34m(\u001b[0m\u001b[0mwd\u001b[0m \u001b[0;34m+\u001b[0m \u001b[0;34m'elec.csv'\u001b[0m\u001b[0;34m)\u001b[0m\u001b[0;34m\u001b[0m\u001b[0;34m\u001b[0m\u001b[0m\n\u001b[0m\u001b[1;32m      3\u001b[0m \u001b[0mk\u001b[0m\u001b[0;34m.\u001b[0m\u001b[0msurveys\u001b[0m \u001b[0;34m=\u001b[0m \u001b[0mk\u001b[0m\u001b[0;34m.\u001b[0m\u001b[0msurveys\u001b[0m\u001b[0;34m[\u001b[0m\u001b[0;34m:\u001b[0m\u001b[0;34m:\u001b[0m\u001b[0;36m2\u001b[0m\u001b[0;34m]\u001b[0m\u001b[0;34m[\u001b[0m\u001b[0;34m:\u001b[0m\u001b[0;36m100\u001b[0m\u001b[0;34m]\u001b[0m \u001b[0;31m# 41.25 s per survey (each survey is 100 quadrupoles) so every 2.75 min\u001b[0m\u001b[0;34m\u001b[0m\u001b[0;34m\u001b[0m\u001b[0m\n\u001b[1;32m      4\u001b[0m \u001b[0;31m#k.param['reg_mode'] = 1 # background constrain\u001b[0m\u001b[0;34m\u001b[0m\u001b[0;34m\u001b[0m\u001b[0;34m\u001b[0m\u001b[0m\n\u001b[1;32m      5\u001b[0m \u001b[0mk\u001b[0m\u001b[0;34m.\u001b[0m\u001b[0mimportMesh\u001b[0m\u001b[0;34m(\u001b[0m\u001b[0mdatadir\u001b[0m \u001b[0;34m+\u001b[0m \u001b[0;34m'mesh3d.dat'\u001b[0m\u001b[0;34m,\u001b[0m \u001b[0mflag_3D\u001b[0m\u001b[0;34m=\u001b[0m\u001b[0;32mTrue\u001b[0m\u001b[0;34m)\u001b[0m\u001b[0;34m\u001b[0m\u001b[0;34m\u001b[0m\u001b[0m\n",
      "\u001b[0;32m/media/jkl/data/phd/tmp/resipy/src/resipy/R2.py\u001b[0m in \u001b[0;36mimportElec\u001b[0;34m(self, fname)\u001b[0m\n\u001b[1;32m   3573\u001b[0m         \u001b[0;32melse\u001b[0m\u001b[0;34m:\u001b[0m\u001b[0;34m\u001b[0m\u001b[0;34m\u001b[0m\u001b[0m\n\u001b[1;32m   3574\u001b[0m             \u001b[0melec\u001b[0m \u001b[0;34m=\u001b[0m \u001b[0mdf\u001b[0m\u001b[0;34m\u001b[0m\u001b[0;34m\u001b[0m\u001b[0m\n\u001b[0;32m-> 3575\u001b[0;31m         \u001b[0mself\u001b[0m\u001b[0;34m.\u001b[0m\u001b[0msetElec\u001b[0m\u001b[0;34m(\u001b[0m\u001b[0melec\u001b[0m\u001b[0;34m)\u001b[0m\u001b[0;34m\u001b[0m\u001b[0;34m\u001b[0m\u001b[0m\n\u001b[0m\u001b[1;32m   3576\u001b[0m \u001b[0;34m\u001b[0m\u001b[0m\n\u001b[1;32m   3577\u001b[0m \u001b[0;34m\u001b[0m\u001b[0m\n",
      "\u001b[0;32m/media/jkl/data/phd/tmp/resipy/src/resipy/R2.py\u001b[0m in \u001b[0;36msetElec\u001b[0;34m(self, elec, elecList)\u001b[0m\n\u001b[1;32m    359\u001b[0m                         \u001b[0;32melse\u001b[0m\u001b[0;34m:\u001b[0m\u001b[0;34m\u001b[0m\u001b[0;34m\u001b[0m\u001b[0m\n\u001b[1;32m    360\u001b[0m                             raise ValueError('The following electrode labels are missing'\n\u001b[0;32m--> 361\u001b[0;31m                                   ' from the electrode declaration: ' + ', '.join(s2[~np.in1d(s2, x)]))\n\u001b[0m\u001b[1;32m    362\u001b[0m                     \u001b[0;32melse\u001b[0m\u001b[0;34m:\u001b[0m\u001b[0;34m\u001b[0m\u001b[0;34m\u001b[0m\u001b[0m\n\u001b[1;32m    363\u001b[0m                         \u001b[0;32mif\u001b[0m \u001b[0melec\u001b[0m\u001b[0;34m.\u001b[0m\u001b[0mshape\u001b[0m\u001b[0;34m[\u001b[0m\u001b[0;36m0\u001b[0m\u001b[0;34m]\u001b[0m \u001b[0;34m>=\u001b[0m \u001b[0mself\u001b[0m\u001b[0;34m.\u001b[0m\u001b[0melec\u001b[0m\u001b[0;34m.\u001b[0m\u001b[0mshape\u001b[0m\u001b[0;34m[\u001b[0m\u001b[0;36m0\u001b[0m\u001b[0;34m]\u001b[0m\u001b[0;34m:\u001b[0m\u001b[0;34m\u001b[0m\u001b[0;34m\u001b[0m\u001b[0m\n",
      "\u001b[0;31mValueError\u001b[0m: The following electrode labels are missing from the electrode declaration: 0"
     ]
    }
   ],
   "source": [
    "print(k.elec)\n",
    "k.importElec(wd + 'elec.csv')\n",
    "k.surveys = k.surveys[::2][:100] # 41.25 s per survey (each survey is 100 quadrupoles) so every 2.75 min\n",
    "#k.param['reg_mode'] = 1 # background constrain\n",
    "k.importMesh(datadir + 'mesh3d.dat', flag_3D=True)\n",
    "k.param['node_elec'] = np.c_[np.arange(len(ielec))+1, ielec+1]\n",
    "k.param['num_xy_poly'] = 0\n",
    "k.param['xy_poly_table'] = []\n",
    "k.param['zmin'] = -10\n",
    "k.param['zmax'] = 50\n",
    "k.param['a_wgt'] = 0.02\n",
    "k.invert(parallel=True)\n",
    "#k.getResults()"
   ]
  },
  {
   "cell_type": "code",
   "execution_count": 31,
   "metadata": {},
   "outputs": [
    {
     "data": {
      "text/plain": [
       "dict_keys(['Resistivity', 'Resistivity(log10)', 'Sensitivity_map(log10)', 'Parameter_zones'])"
      ]
     },
     "execution_count": 31,
     "metadata": {},
     "output_type": "execute_result"
    }
   ],
   "source": [
    "k.meshResults[0].attr_cache.keys()"
   ]
  },
  {
   "cell_type": "code",
   "execution_count": 42,
   "metadata": {},
   "outputs": [],
   "source": [
    "#k.computeDiff() # run once\n",
    "res0 = np.array(k.meshResults[0].attr_cache['Resistivity'])\n",
    "for i, m in enumerate(k.meshResults):\n",
    "    res = np.array(m.attr_cache['Resistivity'])\n",
    "    m.attr_cache['difference(percent)'] = list((res-res0)/res0*100)\n",
    "    m.write_vtk(wd + 'out{:03d}.vtk'.format(i))"
   ]
  },
  {
   "cell_type": "code",
   "execution_count": 20,
   "metadata": {},
   "outputs": [
    {
     "data": {
      "text/plain": [
       "(0, 16186.8)"
      ]
     },
     "execution_count": 20,
     "metadata": {},
     "output_type": "execute_result"
    },
    {
     "data": {
      "image/png": "[encoded data removed]",
      "text/plain": [
       "<matplotlib.figure.Figure at 0x7f3cfc87e438>"
      ]
     },
     "metadata": {
      "needs_background": "light"
     },
     "output_type": "display_data"
    }
   ],
   "source": [
    "k.showRMS()\n",
    "steps = np.array([60, 120, 180, 240])*60\n",
    "fig, axs = plt.subplots(2, 1, sharex=True, figsize=(12,4))\n",
    "showEvol(k, dt=41.25, ax=axs[0])\n",
    "[axs[0].axvline(a, color='k', linestyle=':') for a in steps]\n",
    "showOutflow(datadir + 'outflow/20030201.txt', ax=axs[1])\n",
    "[axs[1].axvline(a, color='k', linestyle=':') for a in steps]\n",
    "axs[1].set_ylim([0.55, 1.7])\n",
    "axs[1].set_xlim([0, None])\n",
    "#fig.savefig(outputdir + 'evolution.png')"
   ]
  },
  {
   "cell_type": "code",
   "execution_count": null,
   "metadata": {},
   "outputs": [],
   "source": [
    "wd = invdir + '200311/'\n",
    "p = pv.Plotter(notebook=True)\n",
    "for i in np.arange(1, len(k.surveys), 10):\n",
    "    offset = i\n",
    "    mesh = pv.read(wd + 'out{:03d}.vtk'.format(i+1))\n",
    "    mesh.translate([offset, 0, 0])\n",
    "    p.add_mesh(mesh, scalars='difference(percent)', cmap='blues_r', clim=(-50, 0))\n",
    "    melec = pv.PolyData(elec)\n",
    "    melec.translate([offset, 0, 0])\n",
    "    p.add_mesh(melec)\n",
    "    p.add_text('{:.2f} min'.format(i*41.25/60), position=(160 + offset*7, 550), font_size=6)\n",
    "p.view_xz()\n",
    "p.show()"
   ]
  },
  {
   "cell_type": "markdown",
   "metadata": {},
   "source": [
    "NOTE: opening all the vtk in paraview, enables to create an animated gif that shows the tracer progression in the column.\n",
    "\n",
    "<img src=\"./img/column.gif\" width=\"500\">"
   ]
  },
  {
   "cell_type": "code",
   "execution_count": null,
   "metadata": {},
   "outputs": [],
   "source": []
  }
 ],
 "metadata": {
  "kernelspec": {
   "display_name": "Python 3",
   "language": "python",
   "name": "python3"
  },
  "language_info": {
   "codemirror_mode": {
    "name": "ipython",
    "version": 3
   },
   "file_extension": ".py",
   "mimetype": "text/x-python",
   "name": "python",
   "nbconvert_exporter": "python",
   "pygments_lexer": "ipython3",
   "version": "3.7.3"
  }
 },
 "nbformat": 4,
 "nbformat_minor": 4
}

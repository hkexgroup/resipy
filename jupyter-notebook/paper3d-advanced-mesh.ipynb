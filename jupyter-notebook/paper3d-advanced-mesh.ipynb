{
 "cells": [
  {
   "cell_type": "markdown",
   "id": "binary-bachelor",
   "metadata": {},
   "source": [
    "# Advanced mesh format benchmark\n",
    "Comparing 'normal' mesh format and 'advanced' mesh format for 3D DC inversion."
   ]
  },
  {
   "cell_type": "code",
   "execution_count": 3,
   "id": "efficient-venice",
   "metadata": {},
   "outputs": [],
   "source": [
    "import sys, os \n",
    "sys.path.append('../src')\n",
    "\n",
    "from resipy import Project\n",
    "import numpy as np\n",
    "import matplotlib.pyplot as plt\n",
    "import pyvista as pv\n",
    "import time\n",
    "import tempfile\n",
    "\n",
    "datadir = '../src/examples/dc-3d/'"
   ]
  },
  {
   "cell_type": "code",
   "execution_count": 4,
   "id": "modified-narrative",
   "metadata": {},
   "outputs": [
    {
     "name": "stderr",
     "output_type": "stream",
     "text": [
      "C:\\Users\\gblanchy\\WPy64-3890\\python-3.8.9.amd64\\lib\\site-packages\\ipykernel\\ipkernel.py:283: DeprecationWarning: `should_run_async` will not call `transform_cell` automatically in the future. Please pass the result to `transformed_cell` argument and any exception that happen during thetransform in `preprocessing_exc_tuple` in IPython 7.17 and above.\n",
      "  and should_run_async(code)\n"
     ]
    },
    {
     "name": "stdout",
     "output_type": "stream",
     "text": [
      "Working directory is: C:\\Users\\gblanchy\\AppData\\Local\\Temp\\tmpqdr7t8rn\n",
      "0/644 reciprocal measurements found.\n",
      "Creating tetrahedral mesh...done (214358 elements)\n",
      "Working directory is: C:\\Users\\gblanchy\\AppData\\Local\\Temp\\tmp0s5_388v\n",
      "0/644 reciprocal measurements found.\n",
      "Creating tetrahedral mesh...done (31534 elements)\n",
      "Working directory is: C:\\Users\\gblanchy\\AppData\\Local\\Temp\\tmpym47b8zd\n",
      "0/644 reciprocal measurements found.\n",
      "Creating tetrahedral mesh...done (11205 elements)\n",
      "Working directory is: C:\\Users\\gblanchy\\AppData\\Local\\Temp\\tmpdvqjmoxd\n",
      "0/644 reciprocal measurements found.\n",
      "Creating tetrahedral mesh...done (5331 elements)\n",
      "Working directory is: C:\\Users\\gblanchy\\AppData\\Local\\Temp\\tmpnwv4ponh\n",
      "0/644 reciprocal measurements found.\n",
      "Creating tetrahedral mesh...done (3817 elements)\n"
     ]
    }
   ],
   "source": [
    "# create different project object\n",
    "ks = []\n",
    "nelems = []\n",
    "for i in range(5):\n",
    "    with tempfile.TemporaryDirectory() as tmpdir:\n",
    "        k = Project(tmpdir, typ='R3t')\n",
    "        k.createSurvey(datadir + 'protocol.dat', ftype='ProtocolDC')\n",
    "        k.importElec(datadir + 'elec.csv')\n",
    "        k.createMesh(cl=(i+1)/4*2, show_output=False) # could use refine as well\n",
    "        nelems.append(k.mesh.df.shape[0])\n",
    "        ks.append(k)"
   ]
  },
  {
   "cell_type": "code",
   "execution_count": 5,
   "id": "numerical-rendering",
   "metadata": {},
   "outputs": [
    {
     "ename": "FileNotFoundError",
     "evalue": "[WinError 3] Het systeem kan het opgegeven pad niet vinden: 'C:\\\\Users\\\\gblanchy\\\\AppData\\\\Local\\\\Temp\\\\tmpqdr7t8rn\\\\invdir'",
     "output_type": "error",
     "traceback": [
      "\u001b[1;31m---------------------------------------------------------------------------\u001b[0m",
      "\u001b[1;31mFileNotFoundError\u001b[0m                         Traceback (most recent call last)",
      "\u001b[1;32m<ipython-input-5-f9d18acc8fc6>\u001b[0m in \u001b[0;36m<module>\u001b[1;34m\u001b[0m\n\u001b[0;32m      4\u001b[0m     \u001b[0mk\u001b[0m\u001b[1;33m.\u001b[0m\u001b[0miadvanced\u001b[0m \u001b[1;33m=\u001b[0m \u001b[1;32mTrue\u001b[0m \u001b[1;31m# default\u001b[0m\u001b[1;33m\u001b[0m\u001b[1;33m\u001b[0m\u001b[0m\n\u001b[0;32m      5\u001b[0m     \u001b[0mt0\u001b[0m \u001b[1;33m=\u001b[0m \u001b[0mtime\u001b[0m\u001b[1;33m.\u001b[0m\u001b[0mtime\u001b[0m\u001b[1;33m(\u001b[0m\u001b[1;33m)\u001b[0m\u001b[1;33m\u001b[0m\u001b[1;33m\u001b[0m\u001b[0m\n\u001b[1;32m----> 6\u001b[1;33m     \u001b[0mk\u001b[0m\u001b[1;33m.\u001b[0m\u001b[0minvert\u001b[0m\u001b[1;33m(\u001b[0m\u001b[1;33m)\u001b[0m\u001b[1;33m\u001b[0m\u001b[1;33m\u001b[0m\u001b[0m\n\u001b[0m\u001b[0;32m      7\u001b[0m     \u001b[0mtimeAdvanced\u001b[0m\u001b[1;33m.\u001b[0m\u001b[0mappend\u001b[0m\u001b[1;33m(\u001b[0m\u001b[0mtime\u001b[0m\u001b[1;33m.\u001b[0m\u001b[0mtime\u001b[0m\u001b[1;33m(\u001b[0m\u001b[1;33m)\u001b[0m \u001b[1;33m-\u001b[0m \u001b[0mt0\u001b[0m\u001b[1;33m)\u001b[0m\u001b[1;33m\u001b[0m\u001b[1;33m\u001b[0m\u001b[0m\n\u001b[0;32m      8\u001b[0m \u001b[1;33m\u001b[0m\u001b[0m\n",
      "\u001b[1;32m~\\WPy64-3890\\python-3.8.9.amd64\\lib\\site-packages\\resipy\\Project.py\u001b[0m in \u001b[0;36minvert\u001b[1;34m(self, param, iplot, dump, modErr, parallel, iMoveElec, ncores, rmDirTree, modelDOI)\u001b[0m\n\u001b[0;32m   3621\u001b[0m \u001b[1;33m\u001b[0m\u001b[0m\n\u001b[0;32m   3622\u001b[0m         \u001b[1;31m# clean previous iterations\u001b[0m\u001b[1;33m\u001b[0m\u001b[1;33m\u001b[0m\u001b[1;33m\u001b[0m\u001b[0m\n\u001b[1;32m-> 3623\u001b[1;33m         \u001b[1;32mfor\u001b[0m \u001b[0mf\u001b[0m \u001b[1;32min\u001b[0m \u001b[0mos\u001b[0m\u001b[1;33m.\u001b[0m\u001b[0mlistdir\u001b[0m\u001b[1;33m(\u001b[0m\u001b[0mself\u001b[0m\u001b[1;33m.\u001b[0m\u001b[0mdirname\u001b[0m\u001b[1;33m)\u001b[0m\u001b[1;33m:\u001b[0m\u001b[1;33m\u001b[0m\u001b[1;33m\u001b[0m\u001b[0m\n\u001b[0m\u001b[0;32m   3624\u001b[0m             \u001b[1;32mif\u001b[0m \u001b[0mf\u001b[0m\u001b[1;33m[\u001b[0m\u001b[1;33m:\u001b[0m\u001b[1;36m3\u001b[0m\u001b[1;33m]\u001b[0m \u001b[1;33m==\u001b[0m \u001b[1;34m'f00'\u001b[0m\u001b[1;33m:\u001b[0m\u001b[1;33m\u001b[0m\u001b[1;33m\u001b[0m\u001b[0m\n\u001b[0;32m   3625\u001b[0m                 \u001b[0mos\u001b[0m\u001b[1;33m.\u001b[0m\u001b[0mremove\u001b[0m\u001b[1;33m(\u001b[0m\u001b[0mos\u001b[0m\u001b[1;33m.\u001b[0m\u001b[0mpath\u001b[0m\u001b[1;33m.\u001b[0m\u001b[0mjoin\u001b[0m\u001b[1;33m(\u001b[0m\u001b[0mself\u001b[0m\u001b[1;33m.\u001b[0m\u001b[0mdirname\u001b[0m\u001b[1;33m,\u001b[0m \u001b[0mf\u001b[0m\u001b[1;33m)\u001b[0m\u001b[1;33m)\u001b[0m\u001b[1;33m\u001b[0m\u001b[1;33m\u001b[0m\u001b[0m\n",
      "\u001b[1;31mFileNotFoundError\u001b[0m: [WinError 3] Het systeem kan het opgegeven pad niet vinden: 'C:\\\\Users\\\\gblanchy\\\\AppData\\\\Local\\\\Temp\\\\tmpqdr7t8rn\\\\invdir'"
     ]
    }
   ],
   "source": [
    "# comparison between normal and avdanced mesh format    \n",
    "timeAdvanced = []\n",
    "for k in ks:\n",
    "    k.iadvanced = True # default\n",
    "    t0 = time.time()\n",
    "    k.invert()\n",
    "    timeAdvanced.append(time.time() - t0)\n",
    "\n",
    "timeNormal = []\n",
    "for k in ks:\n",
    "    k.iadvanced = False\n",
    "    t0 = time.time()\n",
    "    k.invert()\n",
    "    timeNormal.append(time.time() - t0)"
   ]
  },
  {
   "cell_type": "code",
   "execution_count": null,
   "id": "announced-carrier",
   "metadata": {},
   "outputs": [],
   "source": [
    "# graph\n",
    "nelems = np.array(nelems)\n",
    "fig, ax = plt.subplots(figsize=(4,3)) # TODO make smaller to have bigger labels\n",
    "ax.loglog(nelems, timeNormal, 'ko-', label='Normal format')\n",
    "ax.loglog(nelems, timeAdvanced, 'kv--', label='Advanced format')\n",
    "ax.legend()\n",
    "ax.set_xlabel('Number of mesh elements')\n",
    "ax.set_ylabel('Inversion time [s]') # per iteration time??\n",
    "ax.set_xlim([1e3, 1e6])\n",
    "ax.set_ylim([5e0, None])\n",
    "xticks = ax.get_xticks()\n",
    "#ax.set_xticks(xticks)\n",
    "#ax.set_xticklabels(['{:.0f}k'.format(a/1000) for a in xticks])\n",
    "if not os.path.exists('../src/image/paper3d/'):#check directory exists \n",
    "    os.mkdir('../src/image/paper3d/')\n",
    "fig.tight_layout()\n",
    "fig.savefig('../src/image/paper3d/advanced-mesh-benchmark.jpg', dpi=600)"
   ]
  },
  {
   "cell_type": "markdown",
   "id": "promising-timeline",
   "metadata": {},
   "source": [
    "## Observations\n",
    "- might be better to use iteration time rather than inversion time\n",
    "- as it seems that number of iterations differ between normal and advanced mesh format"
   ]
  }
 ],
 "metadata": {
  "kernelspec": {
   "display_name": "Python 3",
   "language": "python",
   "name": "python3"
  },
  "language_info": {
   "codemirror_mode": {
    "name": "ipython",
    "version": 3
   },
   "file_extension": ".py",
   "mimetype": "text/x-python",
   "name": "python",
   "nbconvert_exporter": "python",
   "pygments_lexer": "ipython3",
   "version": "3.8.9"
  }
 },
 "nbformat": 4,
 "nbformat_minor": 5
}

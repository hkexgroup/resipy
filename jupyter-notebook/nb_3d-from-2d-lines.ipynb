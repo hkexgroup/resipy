{
 "cells": [
  {
   "cell_type": "markdown",
   "metadata": {},
   "source": [
    "# Create a 3D survey from 2D lines\n",
    "In this notebook we will see how to use a set of 2D lines (regularly spaced or not) to create a full 3D survey. Note that you can also invert the 2D lines separately and view them in 3D (we refer to this as `pseudo3D`, see separate notebook). In this example, the datasets of all lines are combined together in one single 3D survey."
   ]
  },
  {
   "cell_type": "code",
   "execution_count": 2,
   "metadata": {},
   "outputs": [
    {
     "name": "stdout",
     "output_type": "stream",
     "text": [
      "API path =  /media/jkl/data/phd/tmp/resipy/src/resipy\n",
      "ResIPy version =  3.2.0\n",
      "cR2.exe found and up to date.\n",
      "R3t.exe found and up to date.\n",
      "cR3t.exe found and up to date.\n"
     ]
    }
   ],
   "source": [
    "import os\n",
    "import sys\n",
    "sys.path.append((os.path.relpath('../src'))) # add here the relative path of the API folder\n",
    "testdir = '../src/examples/dc-2d/'\n",
    "from resipy import Project"
   ]
  },
  {
   "cell_type": "code",
   "execution_count": null,
   "metadata": {},
   "outputs": [],
   "source": []
  }
 ],
 "metadata": {
  "kernelspec": {
   "display_name": "Python 3",
   "language": "python",
   "name": "python3"
  },
  "language_info": {
   "codemirror_mode": {
    "name": "ipython",
    "version": 3
   },
   "file_extension": ".py",
   "mimetype": "text/x-python",
   "name": "python",
   "nbconvert_exporter": "python",
   "pygments_lexer": "ipython3",
   "version": "3.7.3"
  }
 },
 "nbformat": 4,
 "nbformat_minor": 4
}
